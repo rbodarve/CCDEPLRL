{
  "cells": [
    {
      "cell_type": "markdown",
      "metadata": {
        "id": "hY-fjvwfy2P9"
      },
      "source": [
        "# Exercise 6"
      ]
    },
    {
      "cell_type": "code",
      "execution_count": 1,
      "metadata": {
        "id": "drsUfVVXyxJl"
      },
      "outputs": [],
      "source": [
        "import tensorflow as tf\n",
        "\n",
        "from tensorflow.keras.preprocessing.text import Tokenizer\n",
        "from tensorflow.keras.preprocessing.sequence import pad_sequences"
      ]
    },
    {
      "cell_type": "code",
      "execution_count": 2,
      "metadata": {
        "id": "y4e6GG2CzJUq"
      },
      "outputs": [],
      "source": [
        "import numpy as np\n",
        "import pandas as pd\n",
        "\n",
        "path = \"https://github.com/robitussin/CCDEPLRL_EXERCISES/blob/9b8ac1c5683abecc144f0af47eb7cda0688e12b7/dataset/reviews.json?raw=true\"\n",
        "\n",
        "dataset = pd.read_json(path)"
      ]
    },
    {
      "cell_type": "code",
      "source": [
        "dataset.head()"
      ],
      "metadata": {
        "colab": {
          "base_uri": "https://localhost:8080/",
          "height": 206
        },
        "id": "lW6mgNsBLNcQ",
        "outputId": "ddfaf807-4a93-4d1b-f794-25f3f1d98b17"
      },
      "execution_count": 3,
      "outputs": [
        {
          "output_type": "execute_result",
          "data": {
            "text/plain": [
              "                                              review  rating\n",
              "0                    sir okay armygreen shorts nice        5\n",
              "1  di pareha yong mga size nila may sobrang liit ...       5\n",
              "2  super worth it ang ganda Sombra grabi order na...       5\n",
              "3                                   ganda po salamat       5\n",
              "4                maayos pagkadeliver maganda den sya       5"
            ],
            "text/html": [
              "\n",
              "  <div id=\"df-4b65bfed-d46c-4bd1-94d3-efe381da8181\" class=\"colab-df-container\">\n",
              "    <div>\n",
              "<style scoped>\n",
              "    .dataframe tbody tr th:only-of-type {\n",
              "        vertical-align: middle;\n",
              "    }\n",
              "\n",
              "    .dataframe tbody tr th {\n",
              "        vertical-align: top;\n",
              "    }\n",
              "\n",
              "    .dataframe thead th {\n",
              "        text-align: right;\n",
              "    }\n",
              "</style>\n",
              "<table border=\"1\" class=\"dataframe\">\n",
              "  <thead>\n",
              "    <tr style=\"text-align: right;\">\n",
              "      <th></th>\n",
              "      <th>review</th>\n",
              "      <th>rating</th>\n",
              "    </tr>\n",
              "  </thead>\n",
              "  <tbody>\n",
              "    <tr>\n",
              "      <th>0</th>\n",
              "      <td>sir okay armygreen shorts nice</td>\n",
              "      <td>5</td>\n",
              "    </tr>\n",
              "    <tr>\n",
              "      <th>1</th>\n",
              "      <td>di pareha yong mga size nila may sobrang liit ...</td>\n",
              "      <td>5</td>\n",
              "    </tr>\n",
              "    <tr>\n",
              "      <th>2</th>\n",
              "      <td>super worth it ang ganda Sombra grabi order na...</td>\n",
              "      <td>5</td>\n",
              "    </tr>\n",
              "    <tr>\n",
              "      <th>3</th>\n",
              "      <td>ganda po salamat</td>\n",
              "      <td>5</td>\n",
              "    </tr>\n",
              "    <tr>\n",
              "      <th>4</th>\n",
              "      <td>maayos pagkadeliver maganda den sya</td>\n",
              "      <td>5</td>\n",
              "    </tr>\n",
              "  </tbody>\n",
              "</table>\n",
              "</div>\n",
              "    <div class=\"colab-df-buttons\">\n",
              "\n",
              "  <div class=\"colab-df-container\">\n",
              "    <button class=\"colab-df-convert\" onclick=\"convertToInteractive('df-4b65bfed-d46c-4bd1-94d3-efe381da8181')\"\n",
              "            title=\"Convert this dataframe to an interactive table.\"\n",
              "            style=\"display:none;\">\n",
              "\n",
              "  <svg xmlns=\"http://www.w3.org/2000/svg\" height=\"24px\" viewBox=\"0 -960 960 960\">\n",
              "    <path d=\"M120-120v-720h720v720H120Zm60-500h600v-160H180v160Zm220 220h160v-160H400v160Zm0 220h160v-160H400v160ZM180-400h160v-160H180v160Zm440 0h160v-160H620v160ZM180-180h160v-160H180v160Zm440 0h160v-160H620v160Z\"/>\n",
              "  </svg>\n",
              "    </button>\n",
              "\n",
              "  <style>\n",
              "    .colab-df-container {\n",
              "      display:flex;\n",
              "      gap: 12px;\n",
              "    }\n",
              "\n",
              "    .colab-df-convert {\n",
              "      background-color: #E8F0FE;\n",
              "      border: none;\n",
              "      border-radius: 50%;\n",
              "      cursor: pointer;\n",
              "      display: none;\n",
              "      fill: #1967D2;\n",
              "      height: 32px;\n",
              "      padding: 0 0 0 0;\n",
              "      width: 32px;\n",
              "    }\n",
              "\n",
              "    .colab-df-convert:hover {\n",
              "      background-color: #E2EBFA;\n",
              "      box-shadow: 0px 1px 2px rgba(60, 64, 67, 0.3), 0px 1px 3px 1px rgba(60, 64, 67, 0.15);\n",
              "      fill: #174EA6;\n",
              "    }\n",
              "\n",
              "    .colab-df-buttons div {\n",
              "      margin-bottom: 4px;\n",
              "    }\n",
              "\n",
              "    [theme=dark] .colab-df-convert {\n",
              "      background-color: #3B4455;\n",
              "      fill: #D2E3FC;\n",
              "    }\n",
              "\n",
              "    [theme=dark] .colab-df-convert:hover {\n",
              "      background-color: #434B5C;\n",
              "      box-shadow: 0px 1px 3px 1px rgba(0, 0, 0, 0.15);\n",
              "      filter: drop-shadow(0px 1px 2px rgba(0, 0, 0, 0.3));\n",
              "      fill: #FFFFFF;\n",
              "    }\n",
              "  </style>\n",
              "\n",
              "    <script>\n",
              "      const buttonEl =\n",
              "        document.querySelector('#df-4b65bfed-d46c-4bd1-94d3-efe381da8181 button.colab-df-convert');\n",
              "      buttonEl.style.display =\n",
              "        google.colab.kernel.accessAllowed ? 'block' : 'none';\n",
              "\n",
              "      async function convertToInteractive(key) {\n",
              "        const element = document.querySelector('#df-4b65bfed-d46c-4bd1-94d3-efe381da8181');\n",
              "        const dataTable =\n",
              "          await google.colab.kernel.invokeFunction('convertToInteractive',\n",
              "                                                    [key], {});\n",
              "        if (!dataTable) return;\n",
              "\n",
              "        const docLinkHtml = 'Like what you see? Visit the ' +\n",
              "          '<a target=\"_blank\" href=https://colab.research.google.com/notebooks/data_table.ipynb>data table notebook</a>'\n",
              "          + ' to learn more about interactive tables.';\n",
              "        element.innerHTML = '';\n",
              "        dataTable['output_type'] = 'display_data';\n",
              "        await google.colab.output.renderOutput(dataTable, element);\n",
              "        const docLink = document.createElement('div');\n",
              "        docLink.innerHTML = docLinkHtml;\n",
              "        element.appendChild(docLink);\n",
              "      }\n",
              "    </script>\n",
              "  </div>\n",
              "\n",
              "\n",
              "    <div id=\"df-ca21e42e-7842-4c24-a42f-c332ff156dad\">\n",
              "      <button class=\"colab-df-quickchart\" onclick=\"quickchart('df-ca21e42e-7842-4c24-a42f-c332ff156dad')\"\n",
              "                title=\"Suggest charts\"\n",
              "                style=\"display:none;\">\n",
              "\n",
              "<svg xmlns=\"http://www.w3.org/2000/svg\" height=\"24px\"viewBox=\"0 0 24 24\"\n",
              "     width=\"24px\">\n",
              "    <g>\n",
              "        <path d=\"M19 3H5c-1.1 0-2 .9-2 2v14c0 1.1.9 2 2 2h14c1.1 0 2-.9 2-2V5c0-1.1-.9-2-2-2zM9 17H7v-7h2v7zm4 0h-2V7h2v10zm4 0h-2v-4h2v4z\"/>\n",
              "    </g>\n",
              "</svg>\n",
              "      </button>\n",
              "\n",
              "<style>\n",
              "  .colab-df-quickchart {\n",
              "      --bg-color: #E8F0FE;\n",
              "      --fill-color: #1967D2;\n",
              "      --hover-bg-color: #E2EBFA;\n",
              "      --hover-fill-color: #174EA6;\n",
              "      --disabled-fill-color: #AAA;\n",
              "      --disabled-bg-color: #DDD;\n",
              "  }\n",
              "\n",
              "  [theme=dark] .colab-df-quickchart {\n",
              "      --bg-color: #3B4455;\n",
              "      --fill-color: #D2E3FC;\n",
              "      --hover-bg-color: #434B5C;\n",
              "      --hover-fill-color: #FFFFFF;\n",
              "      --disabled-bg-color: #3B4455;\n",
              "      --disabled-fill-color: #666;\n",
              "  }\n",
              "\n",
              "  .colab-df-quickchart {\n",
              "    background-color: var(--bg-color);\n",
              "    border: none;\n",
              "    border-radius: 50%;\n",
              "    cursor: pointer;\n",
              "    display: none;\n",
              "    fill: var(--fill-color);\n",
              "    height: 32px;\n",
              "    padding: 0;\n",
              "    width: 32px;\n",
              "  }\n",
              "\n",
              "  .colab-df-quickchart:hover {\n",
              "    background-color: var(--hover-bg-color);\n",
              "    box-shadow: 0 1px 2px rgba(60, 64, 67, 0.3), 0 1px 3px 1px rgba(60, 64, 67, 0.15);\n",
              "    fill: var(--button-hover-fill-color);\n",
              "  }\n",
              "\n",
              "  .colab-df-quickchart-complete:disabled,\n",
              "  .colab-df-quickchart-complete:disabled:hover {\n",
              "    background-color: var(--disabled-bg-color);\n",
              "    fill: var(--disabled-fill-color);\n",
              "    box-shadow: none;\n",
              "  }\n",
              "\n",
              "  .colab-df-spinner {\n",
              "    border: 2px solid var(--fill-color);\n",
              "    border-color: transparent;\n",
              "    border-bottom-color: var(--fill-color);\n",
              "    animation:\n",
              "      spin 1s steps(1) infinite;\n",
              "  }\n",
              "\n",
              "  @keyframes spin {\n",
              "    0% {\n",
              "      border-color: transparent;\n",
              "      border-bottom-color: var(--fill-color);\n",
              "      border-left-color: var(--fill-color);\n",
              "    }\n",
              "    20% {\n",
              "      border-color: transparent;\n",
              "      border-left-color: var(--fill-color);\n",
              "      border-top-color: var(--fill-color);\n",
              "    }\n",
              "    30% {\n",
              "      border-color: transparent;\n",
              "      border-left-color: var(--fill-color);\n",
              "      border-top-color: var(--fill-color);\n",
              "      border-right-color: var(--fill-color);\n",
              "    }\n",
              "    40% {\n",
              "      border-color: transparent;\n",
              "      border-right-color: var(--fill-color);\n",
              "      border-top-color: var(--fill-color);\n",
              "    }\n",
              "    60% {\n",
              "      border-color: transparent;\n",
              "      border-right-color: var(--fill-color);\n",
              "    }\n",
              "    80% {\n",
              "      border-color: transparent;\n",
              "      border-right-color: var(--fill-color);\n",
              "      border-bottom-color: var(--fill-color);\n",
              "    }\n",
              "    90% {\n",
              "      border-color: transparent;\n",
              "      border-bottom-color: var(--fill-color);\n",
              "    }\n",
              "  }\n",
              "</style>\n",
              "\n",
              "      <script>\n",
              "        async function quickchart(key) {\n",
              "          const quickchartButtonEl =\n",
              "            document.querySelector('#' + key + ' button');\n",
              "          quickchartButtonEl.disabled = true;  // To prevent multiple clicks.\n",
              "          quickchartButtonEl.classList.add('colab-df-spinner');\n",
              "          try {\n",
              "            const charts = await google.colab.kernel.invokeFunction(\n",
              "                'suggestCharts', [key], {});\n",
              "          } catch (error) {\n",
              "            console.error('Error during call to suggestCharts:', error);\n",
              "          }\n",
              "          quickchartButtonEl.classList.remove('colab-df-spinner');\n",
              "          quickchartButtonEl.classList.add('colab-df-quickchart-complete');\n",
              "        }\n",
              "        (() => {\n",
              "          let quickchartButtonEl =\n",
              "            document.querySelector('#df-ca21e42e-7842-4c24-a42f-c332ff156dad button');\n",
              "          quickchartButtonEl.style.display =\n",
              "            google.colab.kernel.accessAllowed ? 'block' : 'none';\n",
              "        })();\n",
              "      </script>\n",
              "    </div>\n",
              "\n",
              "    </div>\n",
              "  </div>\n"
            ],
            "application/vnd.google.colaboratory.intrinsic+json": {
              "type": "dataframe",
              "variable_name": "dataset",
              "summary": "{\n  \"name\": \"dataset\",\n  \"rows\": 1001,\n  \"fields\": [\n    {\n      \"column\": \"review\",\n      \"properties\": {\n        \"dtype\": \"string\",\n        \"num_unique_values\": 914,\n        \"samples\": [\n          \"mabilis lang dumating. naka sealed pa ng magagos maliban sa mismong sealed ng nail polish. ang gabda ng kulay at nabili ko lang for only 5 pesos!\",\n          \"i ordered three different shirts, only of them arrived here correctly. one is in wrong size and the other is not the color i ordered and wrong size too.!!!!\",\n          \"The speaker is working and the quality of the sound is very nice. I don't know why but I didn't get the design that I want. Instead of Army Green, I got Grey but its still good. The packaging is also nice. You should buy this product. It is worth it. \"\n        ],\n        \"semantic_type\": \"\",\n        \"description\": \"\"\n      }\n    },\n    {\n      \"column\": \"rating\",\n      \"properties\": {\n        \"dtype\": \"number\",\n        \"std\": 1,\n        \"min\": 1,\n        \"max\": 5,\n        \"num_unique_values\": 5,\n        \"samples\": [\n          4,\n          3,\n          2\n        ],\n        \"semantic_type\": \"\",\n        \"description\": \"\"\n      }\n    }\n  ]\n}"
            }
          },
          "metadata": {},
          "execution_count": 3
        }
      ]
    },
    {
      "cell_type": "markdown",
      "source": [
        "## 1. Tokenize the data"
      ],
      "metadata": {
        "id": "3En4gTR8MRXG"
      }
    },
    {
      "cell_type": "code",
      "source": [
        "# answer here\n",
        "review = dataset['review'].tolist()\n",
        "rating = dataset['rating'].tolist()\n",
        "\n",
        "binary_rating = [1 if r >= 4 else 0 for r in rating]\n",
        "\n",
        "# Separate out the review and rating into training and test sets\n",
        "training_size = int(len(review) * 0.8)\n",
        "\n",
        "training_review = review[0:training_size]\n",
        "testing_review = review[training_size:]\n",
        "training_rating = binary_rating[0:training_size]\n",
        "testing_rating = binary_rating[training_size:]\n",
        "\n",
        "# Make rating into numpy arrays for use with the network later\n",
        "training_rating_final = np.array(training_rating)\n",
        "testing_rating_final = np.array(testing_rating)"
      ],
      "metadata": {
        "id": "Q5WD0HudMUFr"
      },
      "execution_count": 4,
      "outputs": []
    },
    {
      "cell_type": "code",
      "source": [
        "vocab_size = 5000\n",
        "embedding_dim = 32\n",
        "max_length = 50\n",
        "padding_type = 'post'\n",
        "truncating_type = 'post'\n",
        "oov_tok = \"<OOV>\""
      ],
      "metadata": {
        "id": "3UA5_8uqgPaG"
      },
      "execution_count": 5,
      "outputs": []
    },
    {
      "cell_type": "markdown",
      "source": [
        "## 2. Sequence the data"
      ],
      "metadata": {
        "id": "I5hVE73gMWzB"
      }
    },
    {
      "cell_type": "code",
      "source": [
        "# answer here\n",
        "tokenizer = Tokenizer(num_words = vocab_size, oov_token=oov_tok)\n",
        "tokenizer.fit_on_texts(training_review)\n",
        "word_index = tokenizer.word_index\n",
        "\n",
        "training_sequences = tokenizer.texts_to_sequences(training_review)\n",
        "testing_sequences = tokenizer.texts_to_sequences(testing_review)"
      ],
      "metadata": {
        "id": "Un5zy3cLMnLW"
      },
      "execution_count": 6,
      "outputs": []
    },
    {
      "cell_type": "markdown",
      "source": [
        "## 3. Pad the data"
      ],
      "metadata": {
        "id": "BLyaDf-_MojG"
      }
    },
    {
      "cell_type": "code",
      "source": [
        "# answer here\n",
        "training_padded = pad_sequences(training_sequences, maxlen=max_length, padding=padding_type, truncating=truncating_type)\n",
        "testing_padded = pad_sequences(testing_sequences, maxlen=max_length, padding=padding_type, truncating=truncating_type)\n",
        "\n",
        "print(tokenizer.word_index)"
      ],
      "metadata": {
        "id": "bKP6XJLwMxNL",
        "outputId": "7ef11719-8717-400d-c1e1-32cd9ce0d5dd",
        "colab": {
          "base_uri": "https://localhost:8080/"
        }
      },
      "execution_count": 7,
      "outputs": [
        {
          "output_type": "stream",
          "name": "stdout",
          "text": [
            "{'<OOV>': 1, 'the': 2, 'na': 3, 'i': 4, 'ko': 5, 'sa': 6, 'yung': 7, 'and': 8, 'ang': 9, 'ng': 10, 'it': 11, 'lang': 12, 'is': 13, 'at': 14, 'you': 15, 'seller': 16, 'naman': 17, 'to': 18, 'for': 19, 'not': 20, 'po': 21, 'sya': 22, 'maganda': 23, 'order': 24, 'pa': 25, 'but': 26, 'thank': 27, 'pero': 28, 'a': 29, 'good': 30, 'item': 31, 'product': 32, 'hindi': 33, 'so': 34, 'sana': 35, 'my': 36, 'ung': 37, 'dumating': 38, 'this': 39, 'ok': 40, 'delivery': 41, 'di': 42, 'was': 43, 'din': 44, 'its': 45, 'may': 46, 'quality': 47, 'in': 48, 'color': 49, 'price': 50, 'working': 51, 'very': 52, 'of': 53, 'ako': 54, 'ganda': 55, 'that': 56, 'me': 57, 'lng': 58, 'well': 59, 'buy': 60, 'with': 61, 'size': 62, 'mga': 63, 'fast': 64, 'as': 65, 'nice': 66, 'nyo': 67, 'will': 68, 'time': 69, 'nya': 70, 'siya': 71, '1': 72, 'black': 73, 'just': 74, 'items': 75, 'lazada': 76, 'thanks': 77, 'kasi': 78, 'are': 79, 'okay': 80, 'much': 81, 'kaso': 82, 'nmn': 83, 'on': 84, 'kaya': 85, '2': 86, 'kung': 87, 'ordered': 88, 'sobrang': 89, 'love': 90, 's': 91, 'what': 92, 'one': 93, 'super': 94, 'isa': 95, \"it's\": 96, 'packed': 97, 'all': 98, 'or': 99, 'kayo': 100, '3': 101, 'like': 102, 'kulay': 103, 'salamat': 104, 'have': 105, 'nung': 106, 'pala': 107, 'mura': 108, 'wala': 109, 'para': 110, 'mabilis': 111, 'when': 112, 'mouse': 113, 'kahit': 114, 'deliver': 115, 'received': 116, 'wrap': 117, 'yun': 118, 'maayos': 119, 'nga': 120, 'packaging': 121, 'bubble': 122, 'from': 123, 'they': 124, 'take': 125, 'worth': 126, 'manipis': 127, 'box': 128, 'mo': 129, 'shipping': 130, 'no': 131, 'got': 132, 'your': 133, 'pinadala': 134, 'tela': 135, 'pag': 136, 'gumagana': 137, 'only': 138, 'sira': 139, 'satisfied': 140, 'q': 141, 'light': 142, 'sulit': 143, 'pang': 144, 'nman': 145, 'again': 146, 'n': 147, 'walang': 148, 'wrong': 149, 'agad': 150, 'inorder': 151, 'keyboard': 152, 'medyo': 153, 'talaga': 154, 'ito': 155, 'also': 156, 'tapos': 157, 'great': 158, 'white': 159, 'up': 160, 'brown': 161, 'iba': 162, '5': 163, 'if': 164, 'kong': 165, 'un': 166, 'ulit': 167, 'bilis': 168, 'nag': 169, 'rin': 170, 'arrived': 171, 'naka': 172, 'tama': 173, 'damage': 174, 'disappointed': 175, 'dahil': 176, 'first': 177, 'review': 178, 'too': 179, 'niya': 180, 'store': 181, 'eh': 182, 'still': 183, 'yet': 184, 'sayang': 185, 'can': 186, 'be': 187, 'really': 188, 'same': 189, 'isang': 190, '4': 191, 'star': 192, 'next': 193, 'more': 194, 'ka': 195, 'gusto': 196, 'kc': 197, 'thankyou': 198, 'than': 199, 'refund': 200, 'do': 201, 'mas': 202, 'sakin': 203, '10': 204, 'days': 205, 'far': 206, 'legit': 207, 'delivered': 208, 'laptop': 209, 'gray': 210, 'condition': 211, 'nasa': 212, 'rider': 213, 'please': 214, 'plastic': 215, 'picture': 216, 'package': 217, 'other': 218, 'nila': 219, 'kuya': 220, 'bago': 221, 'wag': 222, \"i'm\": 223, 'xa': 224, 'man': 225, 'bakit': 226, 'get': 227, 'stars': 228, 'yan': 229, 'mali': 230, 'kulang': 231, 'use': 232, 'ma': 233, 'affordable': 234, 'now': 235, 'hina': 236, 'maliit': 237, \"don't\": 238, 'has': 239, 'check': 240, 'there': 241, 'know': 242, 'charger': 243, 'mag': 244, 'kay': 245, 'colors': 246, 'though': 247, 'shipped': 248, 'give': 249, 'tried': 250, 'sabi': 251, 'shade': 252, 'kase': 253, 'which': 254, 'back': 255, 'courier': 256, 'ibang': 257, 'charge': 258, 'lahat': 259, 'phone': 260, 'think': 261, 'pwede': 262, 'dapat': 263, 'nagustuhan': 264, 'nalang': 265, 'safe': 266, 'products': 267, 'long': 268, 'purchase': 269, 'itself': 270, 'sakto': 271, 'free': 272, 'tagal': 273, 'binigay': 274, 'u': 275, 'hope': 276, 'then': 277, 'magtagal': 278, 'ay': 279, 'blue': 280, 'try': 281, 'happy': 282, 'overall': 283, 'cable': 284, 'set': 285, 'even': 286, 'here': 287, 'after': 288, 'dark': 289, 'sorry': 290, 'last': 291, 'ganun': 292, 'pink': 293, 'pera': 294, 'we': 295, 'ni': 296, 'im': 297, 'recommend': 298, 'ano': 299, 'shop': 300, 'ayos': 301, 'am': 302, 'akala': 303, 'were': 304, 'powerbank': 305, 'd': 306, 'these': 307, 'an': 308, 'nabili': 309, 'need': 310, 'since': 311, 'works': 312, 'both': 313, 'skin': 314, 'tol': 315, 'pants': 316, 'madaling': 317, 'green': 318, 'always': 319, 'yupi': 320, 'niyo': 321, 'malakas': 322, 'si': 323, 'anyway': 324, 'tumagal': 325, 'see': 326, 'money': 327, 'nkaka': 328, 'nakalagay': 329, 'however': 330, '🏾': 331, 'fit': 332, 'packaged': 333, '9': 334, 'nka': 335, 'looks': 336, 'right': 337, 'although': 338, 'usb': 339, 'lights': 340, 't': 341, 'speaker': 342, 'bag': 343, 'acid': 344, 'nang': 345, 'baka': 346, 'lagi': 347, 'message': 348, 'kapag': 349, 'dito': 350, 'video': 351, 'been': 352, 'charging': 353, 'e': 354, 'namn': 355, 'una': 356, 'pangit': 357, 'quite': 358, 'want': 359, 'dun': 360, 'ba': 361, 'muna': 362, 'gumana': 363, 'send': 364, 'recommended': 365, 'should': 366, 'compared': 367, 'late': 368, 'about': 369, 'how': 370, 'sealed': 371, 'thought': 372, 'immediately': 373, 'kasya': 374, 'c': 375, 'fully': 376, 'using': 377, 'full': 378, 'sound': 379, 'different': 380, 'type': 381, 'way': 382, 'expected': 383, 'rgb': 384, 'some': 385, 'basta': 386, 'nail': 387, 'sale': 388, 'large': 389, 'shorts': 390, 'inyo': 391, 'oorder': 392, 'parehas': 393, 'cute': 394, 'dismaya': 395, 'bought': 396, 'hassle': 397, 'mahal': 398, 'presyo': 399, 'data': 400, 'oks': 401, 'tnx': 402, 'parcel': 403, 'had': 404, 'mismong': 405, 'bat': 406, 'sainyo': 407, 'goods': 408, 'return': 409, 'gamit': 410, 'old': 411, 'ginamit': 412, 'akin': 413, 'fine': 414, 'pls': 415, 'loob': 416, 'nito': 417, 'description': 418, 'complete': 419, 'small': 420, 'kumita': 421, 'meron': 422, 'tong': 423, 'out': 424, 'nia': 425, 'smooth': 426, 'brand': 427, 'properly': 428, \"didn't\": 429, 'design': 430, 'does': 431, \"doesn't\": 432, 'pad': 433, 'she': 434, 'off': 435, 'before': 436, 'ooooooookkkkkkkkkkkk': 437, 'anak': 438, 'vga': 439, 'sent': 440, 'keys': 441, 'o': 442, 'tunog': 443, 'grey': 444, 'pla': 445, 'kala': 446, 'malaki': 447, 'expect': 448, 'week': 449, 'masyado': 450, 'tested': 451, 'photo': 452, 'related': 453, 'handling': 454, 'soon': 455, 'by': 456, 'work': 457, 'napaka': 458, 'cheap': 459, 'tsaka': 460, 'ata': 461, 'tas': 462, 'nio': 463, 'ganito': 464, 'grabe': 465, 'matibay': 466, 'mukhang': 467, 'already': 468, 'masira': 469, 'correct': 470, 'ilang': 471, 'binili': 472, 'sila': 473, 'puro': 474, 'problem': 475, 'chat': 476, 'update': 477, 'dating': 478, 'cp': 479, 'namin': 480, 'paid': 481, 'bless': 482, 'thing': 483, 'another': 484, 'cover': 485, 'because': 486, 'broken': 487, 'basag': 488, 'bank': 489, 'did': 490, 'ginagamit': 491, 'low': 492, 'them': 493, 'device': 494, 'sure': 495, 'masyadong': 496, 'make': 497, 'new': 498, 'm': 499, 'monitor': 500, 'used': 501, 'music': 502, 'fan': 503, 'took': 504, 'button': 505, 'bad': 506, 'akong': 507, 'bet': 508, 'instead': 509, 'kya': 510, 'surely': 511, 'go': 512, 'december': 513, 'pencil': 514, 'strechable': 515, 'hoodie': 516, 'yong': 517, 'short': 518, 'tahi': 519, 'panget': 520, 'pcs': 521, 'saka': 522, 'aq': 523, 'bumili': 524, 'nakaka': 525, '3pcs': 526, 'problema': 527, 'ninyo': 528, 'nmin': 529, 'today': 530, 'he': 531, 'who': 532, 'hopefully': 533, 'dissapointed': 534, 'lalagyan': 535, 'nlng': 536, 'nagamit': 537, 'buti': 538, 'nadin': 539, 'purpose': 540, 'customer': 541, 'ship': 542, 'tho': 543, 'matagal': 544, 'oppo': 545, 'alam': 546, 'ngayon': 547, 'nasunod': 548, 'pc': 549, 'araw': 550, 'slightly': 551, 'weeks': 552, 'tao': 553, 'dont': 554, 'gave': 555, 'god': 556, 'side': 557, 'definitely': 558, 'bibili': 559, 'takip': 560, 'khit': 561, 'placed': 562, '36': 563, 'responsive': 564, 'nitong': 565, 'power': 566, 'delay': 567, 'dalawa': 568, 'authentic': 569, 'tubig': 570, 'ganyan': 571, 'waste': 572, 'bili': 573, 'best': 574, 'alright': 575, 'sensitive': 576, 'sensor': 577, 'times': 578, 'katulad': 579, 'fans': 580, 'turn': 581, 'makapal': 582, 'considering': 583, 'plus': 584, 'would': 585, 'everything': 586, 'care': 587, 'parang': 588, 'say': 589, 'earphone': 590, 'buy1': 591, 'haha': 592, 'tpos': 593, 'wla': 594, 'perfect': 595, \"haven't\": 596, 'daw': 597, 'sace': 598, 'lady': 599, 'eyebrow': 600, 'medium': 601, 'sizes': 602, 'liit': 603, 'den': 604, 'guy': 605, 'madali': 606, 'poor': 607, 'diko': 608, 'nakuha': 609, 'sad': 610, 'kaloka': 611, 'pong': 612, 'post': 613, '2nd': 614, 'sim': 615, 'speed': 616, \"there's\": 617, 'ky': 618, 'available': 619, 'better': 620, 'call': 621, 'earphones': 622, 'mahina': 623, 'nong': 624, 'android': 625, 'syang': 626, \"i've\": 627, 'ayus': 628, 'minsan': 629, 'stand': 630, '🏻': 631, 'giving': 632, 'crumpled': 633, 'damaged': 634, 'hahaha': 635, 'cord': 636, 'susunod': 637, 'cables': 638, 'issue': 639, 'violet': 640, 'excellent': 641, 'keri': 642, 'less': 643, 'kasama': 644, 'itong': 645, 'anong': 646, 'mong': 647, 'gamitin': 648, 'maraming': 649, 'nipis': 650, 'must': 651, 'dineliver': 652, 'yellow': 653, 'missing': 654, 'maybe': 655, 'ibibigay': 656, 'nakarating': 657, 'came': 658, 'actually': 659, 'kita': 660, 'receive': 661, 'dn': 662, 'stock': 663, '75': 664, 'p': 665, 'wrapped': 666, 'cell': 667, 'kaung': 668, 'nlalaman': 669, 'pra': 670, 'fullcharge': 671, 'airdots': 672, 'malinaw': 673, 'under': 674, 'bukas': 675, 'suki': 676, 'open': 677, 'able': 678, 'rapoo': 679, 'simple': 680, 'classy': 681, 'estimated': 682, 'dent': 683, 'left': 684, 'sometimes': 685, 'service': 686, 'nagana': 687, 'job': 688, 'screen': 689, 'wait': 690, 'output': 691, 'mine': 692, '12': 693, 'functional': 694, 'bit': 695, 'tissue': 696, 'turns': 697, 'bahala': 698, 'cguro': 699, 'change': 700, 'charged': 701, 'ever': 702, 'purchased': 703, 'mean': 704, \"you'll\": 705, 'fix': 706, 'tv': 707, 'bigla': 708, 'normal': 709, 'expecting': 710, 'why': 711, 'ambilis': 712, 'depende': 713, 'iingatan': 714, 'mejo': 715, 'pati': 716, 'few': 717, 'dead': 718, 'gift': 719, 'option': 720, 'number': 721, 'kami': 722, 'saya': 723, 'okey': 724, 'second': 725, 'apply': 726, 'watery': 727, 'put': 728, 'look': 729, 'style': 730, 'blush': 731, \"i'd\": 732, 'oily': 733, 'scam': 734, 'kau': 735, 'creamy': 736, 'pimples': 737, 'brow': 738, 'tlga': 739, 'maluwag': 740, 'pwd': 741, 'khaki': 742, '34': 743, 'cut': 744, 'skinny': 745, 'xl': 746, 'dissappointed': 747, 'zipper': 748, 'sir': 749, 'ska': 750, 'nko': 751, 'madikit': 752, 'inexpect': 753, '3days': 754, 'nadeliver': 755, 'waterproof': 756, 'omorder': 757, 'jan': 758, 'palang': 759, 'actual': 760, 'expiration': 761, 'gomo': 762, '15': 763, 'unli': 764, 'benta': 765, 'stop': 766, 'into': 767, 'texts': 768, 'signal': 769, 'packing': 770, 'his': 771, 'internet': 772, 'little': 773, 'dissapoint': 774, 'pareho': 775, 'concern': 776, 'ganon': 777, 'btw': 778, 'waist': 779, 'kuyang': 780, 'tablet': 781, 'youtube': 782, 'boxes': 783, 'pro': 784, 'follow': 785, 'hoping': 786, 'happen': 787, 'nasan': 788, '2pcs': 789, 'irefund': 790, 'opened': 791, 'sha': 792, 'samsung': 793, 'buyer': 794, 'october': 795, 'disappoint': 796, 'without': 797, 'pinili': 798, 'tiwala': 799, 'fee': 800, 'sobra': 801, 'totoong': 802, 'length': 803, 'cheated': 804, 'around': 805, 'ginawa': 806, 'kapwa': 807, 'face': 808, 'hold': 809, 'kaka': 810, 'five': 811, 'name': 812, '2021': 813, 'beautiful': 814, 'against': 815, 'mukha': 816, 'choice': 817, 'random': 818, 'request': 819, 'hnd': 820, 'orders': 821, 'reviews': 822, 'confusing': 823, 'magkaiba': 824, 'buhay': 825, 'messaged': 826, 'parts': 827, 'down': 828, 'least': 829, 'clear': 830, 'accommodating': 831, 'rubber': 832, 'personal': 833, 'pesos': 834, 'ayaw': 835, 'sna': 836, 'disappointing': 837, 'never': 838, 'ibalik': 839, 'pinaka': 840, 'eto': 841, 'pano': 842, 'mabait': 843, 'w': 844, 'day': 845, 'hours': 846, 'sales': 847, 'bang': 848, 'ibenta': 849, 'ngaun': 850, 'napakatagal': 851, '30': 852, 'lalo': 853, 'safely': 854, 'hahahaha': 855, 'waiting': 856, 'uli': 857, 'extra': 858, 'space': 859, 'exact': 860, 'parcels': 861, 'leaking': 862, 'pods': 863, 'leak': 864, 'gonna': 865, 'online': 866, 'friends': 867, 'heavy': 868, 'regular': 869, 'nameet': 870, 'prefer': 871, 'cos': 872, 'deformed': 873, 'kaunting': 874, 'gmitin': 875, 'tinry': 876, 'cursor': 877, 'annoying': 878, 'click': 879, 'highly': 880, 'honest': 881, 'says': 882, 'feel': 883, '3rd': 884, 'our': 885, 'automatically': 886, \"won't\": 887, 'functioning': 888, 'husto': 889, 'display': 890, \"can't\": 891, 'find': 892, 'sinubukan': 893, 'trying': 894, 'gaming': 895, 'loves': 896, 'earlier': 897, '14': 898, 'made': 899, '6': 900, 'enough': 901, 'agreed': 902, 'part': 903, 'buying': 904, 'bright': 905, 'makes': 906, 'double': 907, 'ndi': 908, 'punit': 909, 'madami': 910, 'units': 911, '1st': 912, 'two': 913, 'any': 914, 'thumbs': 915, 'rating': 916, '32': 917, 'quick': 918, 'maaga': 919, 'totally': 920, 'nothing': 921, 'blurry': 922, 'unlike': 923, 'brands': 924, 'advertised': 925, 'looking': 926, 'response': 927, 'syempre': 928, 'hehehhe': 929, 'salamaaaaaaaaaat': 930, 'base': 931, 'tell': 932, 'buttons': 933, 'kids': 934, 'night': 935, 'something': 936, 'poorly': 937, 'easy': 938, 'link': 939, 'etc': 940, 'until': 941, 'ive': 942, 'cant': 943, 'doesnt': 944, 'sounds': 945, 'keep': 946, 'lakas': 947, 'stain': 948, 'sabog': 949, 'headset': 950, 'ph': 951, 'take1': 952, 'uulitin': 953, 'dati': 954, 'dalawang': 955, 'polish': 956, 'formula': 957, 'morena': 958, 'bench': 959, 'lasting': 960, 'excited': 961, 'red': 962, 'almost': 963, 'remove': 964, 'myself': 965, 'upon': 966, 'pinkflash': 967, 'lipstick': 968, '1bag': 969, 'true': 970, 'ads': 971, 'natanggap': 972, 'contour': 973, 'highlighter': 974, 'darker': 975, 'seems': 976, 'kapatid': 977, 'parin': 978, 'tuloy': 979, 'mganda': 980, 'wearing': 981, 'high': 982, 'feb': 983, 'matanggal': 984, 'tsk': 985, 'mabura': 986, 'layo': 987, '11': 988, '7': 989, 'tshirt': 990, 'malambot': 991, 'sikip': 992, 'smaller': 993, 'compare': 994, 'kso': 995, 'sama': 996, 'babae': 997, 'model': 998, 'ibigay': 999, 'gantong': 1000, 'kaau': 1001, 'bewang': 1002, 'stretchable': 1003, 'legs': 1004, 'ipapadala': 1005, 'jacket': 1006, 'bait': 1007, 'dami': 1008, 'uulit': 1009, 'hehehe': 1010, 'dingding': 1011, 'halatang': 1012, 'ginupit': 1013, 'brick': 1014, 'wall': 1015, 'poh': 1016, 'mint': 1017, '12pcs': 1018, 'neto': 1019, '60': 1020, 'bedroom': 1021, '20': 1022, 'mbps': 1023, 'download': 1024, 'nabubuksan': 1025, 'uwan': 1026, 'finally': 1027, 'ready': 1028, 'app': 1029, 'smart': 1030, 'current': 1031, 'noticed': 1032, 'turned': 1033, 'suits': 1034, 'connection': 1035, 'guys': 1036, \"si'ya\": 1037, 'compatible': 1038, 'phones': 1039, 'bkit': 1040, 'qng': 1041, 'keln': 1042, 'dumami': 1043, 'kaasar': 1044, 'iadjust': 1045, 'cellphone': 1046, 'wanted': 1047, 'masakit': 1048, 'ibaba': 1049, 'anik': 1050, 'hehe': 1051, 'nilagay': 1052, 'ayun': 1053, 'useful': 1054, 'coz': 1055, 'options': 1056, '5pcs': 1057, 'darating': 1058, 'nonsense': 1059, 'policy': 1060, 'magkano': 1061, '14p': 1062, 'scratches': 1063, 'returned': 1064, 'nako': 1065, 'paano': 1066, 'wow': 1067, 'deal': 1068, 'ligth': 1069, 'ty': 1070, 'beses': 1071, 'hndi': 1072, 'slow': 1073, 'ngayong': 1074, 'secure': 1075, 'oo': 1076, 'b': 1077, 'others': 1078, 'buyers': 1079, 'value': 1080, 'being': 1081, 'binayaran': 1082, 'mapuno': 1083, 'anyways': 1084, 'recieved': 1085, 'karma': 1086, 'mumurahin': 1087, 'become': 1088, 'gagamit': 1089, 'lagyan': 1090, 'atleast': 1091, 'magexpect': 1092, 'pick': 1093, 'itsura': 1094, 'empathetic': 1095, 'pouch': 1096, 'false': 1097, 'advertisement': 1098, 'nyong': 1099, 'given': 1100, 'piece': 1101, 'friend': 1102, 'didnt': 1103, 'reply': 1104, 'laki': 1105, 'lapat': 1106, 'handle': 1107, 'wondering': 1108, 'makalansing': 1109, 'kng': 1110, 'resend': 1111, 'snother': 1112, 'lacking': 1113, 'replace': 1114, 'palpak': 1115, 'kinuha': 1116, 'malowbat': 1117, '16': 1118, '21': 1119, 'bcoz': 1120, 'while': 1121, '8': 1122, 'come': 1123, '35': 1124, 'klaseng': 1125, 'chinicheck': 1126, 'mgagamit': 1127, 'bnli': 1128, 'noh': 1129, '10000mah': 1130, 'malowbatt': 1131, '5000mah': 1132, 'peke': 1133, 'chinarge': 1134, 'battery': 1135, 'nakasaksak': 1136, 'maling': 1137, 'yes': 1138, 'lazmall': 1139, 'branding': 1140, 'holy': 1141, 'found': 1142, 'said': 1143, 'naibigay': 1144, 'water': 1145, 'regalo': 1146, 'nagdedeliver': 1147, 'naging': 1148, 'balik': 1149, 'ecq': 1150, 'tlaga': 1151, 'driver': 1152, 'pic': 1153, 'juice': 1154, 'lasa': 1155, 'cause': 1156, 'pinambili': 1157, 'palitan': 1158, 'omg': 1159, 'pangatlong': 1160, 'nadisappoint': 1161, 'budol': 1162, 'recomment': 1163, 'basic': 1164, 'lexph': 1165, 'duty': 1166, 'laza': 1167, 'delightful': 1168, 'failed': 1169, 'buddy': 1170, 'comfy': 1171, 'gadget': 1172, 'sariling': 1173, 'hahahahaa': 1174, 'nakadikit': 1175, 'surface': 1176, 'imove': 1177, 'sumasabay': 1178, 'magandaaaaa': 1179, 'later': 1180, 'hour': 1181, 'mafull': 1182, 'maka': 1183, 'bottom': 1184, 'thicker': 1185, 'cb': 1186, 'hayz': 1187, 'discription': 1188, 'piraso': 1189, 'plug': 1190, 'adapter': 1191, 'hdmi': 1192, 'kopa': 1193, 'adaptor': 1194, 'reference': 1195, 'editing': 1196, 'support': 1197, 'displaylink': 1198, 'external': 1199, 'kaagad': 1200, 'feature': 1201, 'install': 1202, 'instructions': 1203, 'lenovo': 1204, 'previous': 1205, 'cooling': 1206, 'till': 1207, 'kid': 1208, 'system': 1209, 'dalhin': 1210, 'pretty': 1211, 'height': 1212, 'amazing': 1213, 'fragile': 1214, 'kalakas': 1215, 'hangin': 1216, 'promise': 1217, 'ambag': 1218, 'heat': 1219, 'dissipation': 1220, 'elevate': 1221, 'alone': 1222, 'direct': 1223, 'isaksak': 1224, 'replacement': 1225, 'awesome': 1226, 'unfortunately': 1227, 'leds': 1228, 'ilaw': 1229, 'close': 1230, 'aside': 1231, 'wish': 1232, 'pattern': 1233, 'thick': 1234, 'feels': 1235, 'takes': 1236, 'tap': 1237, 'stays': 1238, 'precise': 1239, 'saksak': 1240, 'andito': 1241, 'obvious': 1242, 'preferred': 1243, 'ps': 1244, 'boy': 1245, 'worst': 1246, 'defective': 1247, 'own': 1248, 'natagalan': 1249, 'picturan': 1250, 'effect': 1251, 'tae': 1252, 'bulok': 1253, 'reasons': 1254, 'connecting': 1255, 'trusted': 1256, 'll': 1257, 'hi': 1258, 'godbless': 1259, 'nagmalfunction': 1260, 'dina': 1261, 'magamit': 1262, 'ed': 1263, 'kwenta': 1264, 'maayus': 1265, 'sinira': 1266, 'qaulity': 1267, 'pweeee': 1268, 'anymore': 1269, 'saan': 1270, 'scroll': 1271, 'else': 1272, 'early': 1273, 'securely': 1274, 'perfectly': 1275, 'hirap': 1276, 'detached': 1277, 'talagang': 1278, 'ewan': 1279, 'satisfying': 1280, 'isend': 1281, 'hate': 1282, 'kwarto': 1283, 'discoloration': 1284, 'end': 1285, 'inyong': 1286, 'dadami': 1287, 'cracked': 1288, \"pc's\": 1289, 'result': 1290, 'forever': 1291, 'arrive': 1292, 'backlight': 1293, 'starting': 1294, 'frustrating': 1295, 'process': 1296, 'big': 1297, 'bluetooth': 1298, 'oki': 1299, 'magandaa': 1300, 'kinakausap': 1301, 'hahahahaaha': 1302, 'asann': 1303, 'lamann': 1304, 'fr': 1305, 'hotline': 1306, 'contacted': 1307, 'through': 1308, 'invalid': 1309, 'chatbot': 1310, 'inaaccurate': 1311, 'answers': 1312, 'aftersales': 1313, 'mareceive': 1314, 'hmmm': 1315, 'went': 1316, 'glitch': 1317, 'happened': 1318, 'unresponsive': 1319, 'audio': 1320, 'comes': 1321, 'magaan': 1322, 'loud': 1323, 'g': 1324, 'bass': 1325, 'murang': 1326, 'halaga': 1327, 'tatagal': 1328, 'tumutunog': 1329, 'terms': 1330, 'tingin': 1331, 'unang': 1332, 'testing': 1333, 'putol': 1334, 'pauwi': 1335, 'earbif': 1336, 'dedz': 1337, 'wraps': 1338, 'wont': 1339, 'lesson': 1340, 'advance': 1341, 'merry': 1342, 'christmas': 1343, 'lex': 1344, 'protection': 1345, 'natawa': 1346, 'nasira': 1347, 'layers': 1348, 'needs': 1349, 'suitable': 1350, 'desired': 1351, 'consistency': 1352, 'tone': 1353, 'nakikita': 1354, 'coats': 1355, 'except': 1356, 'pede': 1357, 'kinda': 1358, 'reading': 1359, 'bagay': 1360, '》': 1361, 'mabaho': 1362, 'fastest': 1363, 'fault': 1364, 'adhesive': 1365, 'transaction': 1366, 'hanging': 1367, 'diffuser': 1368, '10ml': 1369, 'https': 1370, 'com': 1371, 'friendly': 1372, 'havent': 1373, 'seal': 1374, 'natuwa': 1375, \"swallowin'\": 1376, 'pride': 1377, \"standin'\": 1378, 'front': 1379, \"sayin'\": 1380, 'freedom': 1381, \"ain't\": 1382, \"nothin'\": 1383, \"missin'\": 1384, \"wishin'\": 1385, 'realized': 1386, \"sleepin'\": 1387, \"stayin'\": 1388, \"playin'\": 1389, \"leavin'\": 1390, 'birthday': 1391, 'passed': 1392, 'summer': 1393, 'liptints': 1394, 'tinted': 1395, 'glossy': 1396, 'requires': 1397, 'cheek': 1398, 'checking': 1399, 'buy1take1': 1400, 'nakalabas': 1401, 'asan': 1402, 'nagiisang': 1403, 'irita': 1404, 'sunod': 1405, 'content': 1406, 'amoy': 1407, 'paki': 1408, 'ayusin': 1409, 'notice': 1410, 'anu': 1411, 'concealer': 1412, 'everyday': 1413, 'beginners': 1414, 'smells': 1415, 'freebies': 1416, 'kumpleto': 1417, 'ipadala': 1418, 'smudge': 1419, 'attention': 1420, 'makati': 1421, 'muka': 1422, 'ina': 1423, 'imbes': 1424, 'sandamakmak': 1425, 'lumabas': 1426, 'bwiset': 1427, 'natural': 1428, 'ku': 1429, 'young': 1430, 'assume': 1431, 'knew': 1432, 'favorite': 1433, 'buildable': 1434, 'kilay': 1435, 'wonderful': 1436, 'haba': 1437, 'mama': 1438, 'matte': 1439, 'doesn': 1440, 'deep': 1441, 'hair': 1442, 'spoolie': 1443, 'liner': 1444, 'liquid': 1445, 'eyeshadow': 1446, 'freebie': 1447, 'saakin': 1448, 'cheaper': 1449, 'suggest': 1450, 'fabric': 1451, 'butas': 1452, 'mantsa': 1453, 'shirts': 1454, 'nilagari': 1455, 'litrato': 1456, 'ah': 1457, 'friebies': 1458, 'misleading': 1459, 'palibhasa': 1460, 'hussle': 1461, 'ibblik': 1462, 'expectation': 1463, 'hubby': 1464, 'cloth': 1465, 'maiksi': 1466, 'accurate': 1467, 'thread': 1468, 'nagbabayad': 1469, 'sirain': 1470, 'ichck': 1471, 'nkakadismaya': 1472, 'oordeer': 1473, 'umay': 1474, 'asked': 1475, 'tru': 1476, 'nakakainis': 1477, 'luwag': 1478, 'mahaba': 1479, 'nindot': 1480, 'ayoko': 1481, 'straight': 1482, 'tribal': 1483, 'jeans': 1484, 'tamang': 1485, 'nxt': 1486, 'costumer': 1487, 'lalaki': 1488, 'dirty': 1489, 'antigas': 1490, 'papalitan': 1491, 'diba': 1492, 'marunong': 1493, 'bumasa': 1494, 'makapangloko': 1495, 'palagay': 1496, 'kupal': 1497, 'makabenta': 1498, 'mababan': 1499, 'tandaan': 1500, 'yn': 1501, 'irerefund': 1502, 'kind': 1503, 'todo': 1504, 'surfsaya': 1505, 'apps': 1506, 'tawagan': 1507, 'sensya': 1508, 'nakapag': 1509, 'xxxl': 1510, 'pki': 1511, 'dini': 1512, 'kailngan': 1513, 'armygreen': 1514, 'pareha': 1515, 'akjejrjrjjfjjriro4k4jrjrjfjrjrjrjrjjtjrj': 1516, 'sombra': 1517, 'grabi': 1518, 'magsisisisis': 1519, 'sobranh': 1520, 'pagkadeliver': 1521, 'gnda': 1522, 'nagustohan': 1523, 'binigyan': 1524, 'himulmol': 1525, 'sinulid': 1526, 'salita': 1527, 'gawa': 1528, 'maponit': 1529, 'unsatisfied': 1530, 'easily': 1531, 'torn': 1532, 'niyaumorder': 1533, '50pcs': 1534, 'pagkakabalot': 1535, 'niyatry': 1536, 'malapad': 1537, 'gandaganda': 1538, 'gandagandagandaganda': 1539, 'gandagandaganda': 1540, 'superrrrr': 1541, 'makapit': 1542, 'rough': 1543, 'mamang': 1544, 'bricks': 1545, '216pesos': 1546, '20pcs': 1547, 'umabot': 1548, 'mall': 1549, 'regarding': 1550, 'subra': 1551, 'dumatng': 1552, 'makaiba': 1553, '2loy': 1554, 'qlay': 1555, 'magbalik': 1556, 'pti': 1557, 'ibngy': 1558, 'shiffing': 1559, 'makatikim': 1560, 'panloloko': 1561, 'nq': 1562, 'recvd': 1563, 'gud': 1564, 'npakganda': 1565, 'nkakasosyal': 1566, '30gb': 1567, 'pangamba': 1568, 'maubusan': 1569, 'updated': 1570, 'social': 1571, 'byahe': 1572, 'piso': 1573, 'wifi': 1574, 'upload': 1575, 'promo': 1576, 'mdyo': 1577, 'mhlga': 1578, 'andun': 1579, 'vrry': 1580, 'pd': 1581, 'maikog': 1582, 'ghatod': 1583, 'gjd': 1584, 'gihapon': 1585, 'nja': 1586, 'maski': 1587, 'sgeg': 1588, 'lazadaaaaa': 1589, 'game': 1590, 'changer': 1591, 'convert': 1592, 'calls': 1593, 'expiry': 1594, '5g': 1595, 'lte': 1596, 'highlights': 1597, 'inferior': 1598, 'area': 1599, 'outside': 1600, 'manila': 1601, \"could've\": 1602, 'seen': 1603, 'housing': 1604, 'wi': 1605, 'fi': 1606, 'deteriorates': 1607, 'known': 1608, 'three': 1609, 'thousand': 1610, 'dollar': 1611, 'italian': 1612, 'draped': 1613, 'fed': 1614, 'frame': 1615, 'remarkable': 1616, 'string': 1617, 'legal': 1618, 'victories': 1619, 'simply': 1620, 'stood': 1621, 'paralyzed': 1622, 'shock': 1623, 'witnessed': 1624, 'letting': 1625, 'conducting': 1626, 'mmmmmmm': 1627, 'mmggggggggggggaaaaaannnnnnnnnddddddddddaaaaaaaaqa': 1628, 'sssssssssssssssyyyyyyyyyyyyyyyyyaaaaaaaa': 1629, 'fffaaaast': 1630, 'cccchaaarrggggggiiiiiiinnnnnnnnngggggggggggggggvg': 1631, 'matagalan': 1632, 'nato': 1633, 'acomodating': 1634, 'morning': 1635, 'pasensya': 1636, 'init': 1637, 'mouthpiece': 1638, 'tinary': 1639, 'kopo': 1640, 'loloko': 1641, 'nasya': 1642, 'hingit': 1643, 'kanina': 1644, 'dna': 1645, 'binalik': 1646, 'sukli': 1647, 'tlg': 1648, 'thanx': 1649, 'kaojcjwjxksosjcbcnjdjdjsnjsjsjjxnnfnnfnfkdjjsjjsnsnsnjsjjdjjfjfnnfjjfjfjj': 1650, 'pagkabalot': 1651, 'designed': 1652, 'mahulog': 1653, 'neck': 1654, 'kakatingin': 1655, 'hawak': 1656, 'nood': 1657, 'agus': 1658, 'mangangalalay': 1659, 'kamay': 1660, 'kakapanood': 1661, 'series': 1662, 'holders': 1663, 'greens': 1664, 'nahuhulog': 1665, 'nakatayo': 1666, 'apat': 1667, 'adjustable': 1668, 'convenient': 1669, 'usefast': 1670, 'picky': 1671, 'person': 1672, \"what's\": 1673, 'address': 1674, 'served': 1675, 'qt': 1676, 'ya': 1677, 'noong': 1678, 'wortit': 1679, 'gamda': 1680, 'taga': 1681, 'amin': 1682, 'once': 1683, '28': 1684, '29': 1685, 'binububble': 1686, 'lugar': 1687, 'uminit': 1688, 'magchacharge': 1689, '25': 1690, 'minutes': 1691, 'iinit': 1692, 'core': 1693, \"work's\": 1694, 'ngagamit': 1695, 'mafragal': 1696, 'tatlong': 1697, 'myo': 1698, 'bibigay': 1699, 'communicate': 1700, 'avoid': 1701, 'maiintindihan': 1702, 'pagdating': 1703, 'napili': 1704, 'naming': 1705, 'alagaan': 1706, 'kse': 1707, 'paulit': 1708, 'kaming': 1709, 'sellers': 1710, 'asmuch': 1711, 'us': 1712, 'told': 1713, 'nagsend': 1714, 'vilolet': 1715, 'appreciated': 1716, 'bumabagal': 1717, 'pagcharge': 1718, 'mataas': 1719, 'masusunod': 1720, 'kainis': 1721, 'test': 1722, 'reserba': 1723, 'incase': 1724, 'namen': 1725, 'laman': 1726, 'iksi': 1727, 'meter': 1728, 'haiissst': 1729, 'furst': 1730, 'naimutan': 1731, 'hihihi': 1732, 'cords': 1733, 'kaayos': 1734, 'nakalipas': 1735, 'paggamit': 1736, 'nagchacharge': 1737, 'cturer': 1738, 'dis': 1739, 'appointed': 1740, 'howcome': 1741, 'lwng': 1742, 'amount': 1743, 'nanloko': 1744, 'worry': 1745, 'corner': 1746, 'babalik': 1747, 'sayo': 1748, 'masama': 1749, 'goodluck': 1750, 'hgrxvjouffhitfbjresfjkhcfutecvkkfffgcderiijvdsfhijvfdgujbddghbvfdesfjoonfddvfyhfdtvnigcdechukhdxcchjnbffhiuessvhlkjcdds': 1751, 'gold': 1752, 'yari': 1753, 'holder': 1754, 'mask': 1755, 'iyan': 1756, 'between': 1757, 'duha': 1758, 'november': 1759, '24': 1760, 'pieces': 1761, 'nilang': 1762, 'reminder': 1763, 'fighting': 1764, 'allcolorsarebeautiful': 1765, 'blacklivesmatter': 1766, 'nmng': 1767, 'dpende': 1768, 'approved': 1769, 'pagpilian': 1770, 'susundin': 1771, 'kana': 1772, 'dibaaa': 1773, 'quantity': 1774, 'location': 1775, 'nagorder': 1776, 'pinakadisappointing': 1777, 'landyard': 1778, 'improve': 1779, 'kapal': 1780, 'crap': 1781, 'disaster': 1782, 'paladesisyon': 1783, 'nakakafrustrate': 1784, 'guidelines': 1785, 'piliin': 1786, 'include': 1787, 'nakasama': 1788, 'nakalimutan': 1789, 'yata': 1790, 'attach': 1791, 'spoon': 1792, 'secured': 1793, 'paired': 1794, 'disassembled': 1795, 'discover': 1796, 'each': 1797, 'half': 1798, 'kilo': 1799, '375': 1800, 'nevertheless': 1801, 'serves': 1802, 'glass': 1803, 'marami': 1804, 'malalagay': 1805, 'malaman': 1806, 'nasunog': 1807, 'ganitong': 1808, 'pinapadala': 1809, 'binabayaran': 1810, 'matutuwa': 1811, 'naisip': 1812, 'dq': 1813, 'nasa2ra': 1814, 'si2ngaw': 1815, 'condiments': 1816, 'ila2gay': 1817, 'pakipadala': 1818, 'hawakan': 1819, '120': 1820, 'mg': 1821, 'sara': 1822, 'tkip': 1823, 'nyangkabliktad': 1824, 'mgnda': 1825, 'checked': 1826, 'inside': 1827, 'bottle': 1828, 'mahabang': 1829, 'hiwa': 1830, 'bubog': 1831, 'kinalabasan': 1832, 'dazzle': 1833, 'cup': 1834, 'hairclip': 1835, 'basahan': 1836, 'egg': 1837, 'beater': 1838, 'san': 1839, 'rio': 1840, 'irereport': 1841, 'kkta': 1842, 'mawala': 1843, '11pesos': 1844, '7pesos': 1845, 'bayad': 1846, 'wlang': 1847, 'kalokohan': 1848, 'nakabaliktad': 1849, 'ggamitin': 1850, 'deserves': 1851, '6666666666766766': 1852, 'goodgumagana': 1853, 'nakuhanan': 1854, 'tumugaldi': 1855, 'b4': 1856, 'pre': 1857, 'outcome': 1858, 'empty': 1859, '1a': 1860, '9pm': 1861, '1pm': 1862, 'led': 1863, 'deem': 1864, 'lowbat': 1865, 'ohone': 1866, 'uag': 1867, 'nakwgaj': 1868, 'lagahwo': 1869, 'ahaksuwg': 1870, 'kwjjfskao': 1871, 'wgakwkwhwnwkw': 1872, 'ajjwkwqkjwgekwe': 1873, 'sjejwhwjwhjsjwkwoiw': 1874, 'nrvc': 1875, 'nacharge': 1876, 'chinacharge': 1877, 'puno': 1878, 'ao': 1879, 'don': 1880, 'nbother': 1881, 'napa': 1882, '57': 1883, '84': 1884, '1½': 1885, 'hanggang': 1886, 'percent': 1887, '2hrs': 1888, 'hrs': 1889, 'mapapamura': 1890, 'pakikitungu': 1891, 'pakiayos': 1892, 'kaysa': 1893, 'kabadtrip': 1894, 'napakapangit': 1895, 'kabonding': 1896, 'comprehensive': 1897, 'tldr': 1898, 'pctech': 1899, 'selling': 1900, 'counterfeit': 1901, 'marking': 1902, 'round': 1903, 'tip': 1904, 'self': 1905, 'build': 1906, 'laughable': 1907, 'horrible': 1908, 'keeps': 1909, 'disconnecting': 1910, 'literally': 1911, 'cm': 1912, 'head': 1913, 'liar': 1914, 'nandito': 1915, 'pinag': 1916, 'bigyan': 1917, 'papasok': 1918, 'yeeeeyy': 1919, 'camera': 1920, 'pouchperfect': 1921, 'dilevery': 1922, 'inaanak': 1923, 'lalong': 1924, 'oliver': 1925, 'dpat': 1926, 'purple': 1927, 'tska': 1928, 'dpa': 1929, 'natutuloy': 1930, 'swimming': 1931, '2days': 1932, 'satisfy': 1933, 'padinn': 1934, 'pasukin': 1935, 'kilala': 1936, 'hahaa': 1937, 'pariho': 1938, 'cool': 1939, 'akalain': 1940, 'binukasan': 1941, 'papasukan': 1942, 'pipindot': 1943, 'ilalim': 1944, 'wah': 1945, 'beach': 1946, 'kasyang': 1947, 'mgaganda': 1948, 'a71': 1949, 'underwater': 1950, 'pinasukan': 1951, 'ibubble': 1952, 'madamage': 1953, 'kasamang': 1954, 'isawsaw': 1955, 'buwan': 1956, 'tjlsfsfbzfskhrakhrskharjhsfksfhkfshkrhskrhdkrshjrhhjfzxhfkxrhxrgjegsragjjfjaafjjduafjhzgxjrgjrdhggyjdvhdrvsrrgsecgaexgsedgfaegseffghcrsgchdsgdhschdhjdgthjdtgfbylkghykkbigukfyhojdtcrstehdtedattdeytedagtedagxeadgexahagdrhshfrsjfjgdkouhtopuhtoilygfgkuvfufrweydetdwteydy': 1957, 'parehong': 1958, 'within': 1959, 'timeframe': 1960, 'assurance': 1961, 'leakage': 1962, 'menthol': 1963, 'takaga': 1964, 'legitttt': 1965, 'kakabukas': 1966, 'ubos': 1967, 'proof': 1968, 'fake': 1969, \"i'll\": 1970, 'cost': 1971, '185': 1972, 'perang': 1973, 'huhu': 1974, 'gawan': 1975, 'paraan': 1976, 'replaced': 1977, 'report': 1978, 'magcharge': 1979, 'sulitttttt': 1980, 'mukang': 1981, 'nareceive': 1982, 'ipinadala': 1983, 'napansin': 1984, 'lumuwag': 1985, 'dulo': 1986, 'fone': 1987, 'convenience': 1988, 'nysbahahhahahahahahahhahahahahhahahahahahahhshshshshahsbahahbsbsbsbsbsbsbbsbsbsbsbsbsbsbsbsbsbsbsbshshhshshshsbsbs': 1989, 'act': 1990, 'esend': 1991, 'discount': 1992, 'hanap': 1993, 'models': 1994, '222': 1995, '221': 1996, 'eee': 1997, 'nnajaja': 1998, 'kakakakakakakakakakakakakakakaini': 1999, 'thier': 2000, 'hays': 2001, 'isasauli': 2002, 'pipila': 2003, 'pagkahabahaba': 2004, 'chinecheck': 2005, 'nagaya': 2006, 'antagal': 2007, 'lumagpas': 2008, 'date': 2009, 'cxa': 2010, 'tumalagal': 2011, 'esp': 2012, 'those': 2013, 'laptops': 2014, '0': 2015, 'ports': 2016, 'ervin': 2017, 'pabillare': 2018, 'installed': 2019, 'their': 2020, 'website': 2021, 'boom': 2022, 'running': 2023, 'windows10': 2024, 'church': 2025, 'play': 2026, 'minute': 2027, 'poco': 2028, 'f1': 2029, 'a5': 2030, '2020': 2031, 'devices': 2032, 'detect': 2033, 'kudos': 2034, 'stocks': 2035, 'differnt': 2036, 'supplier': 2037, 'extension': 2038, 'nagagamit': 2039, 'aantayin': 2040, 'dangle': 2041, 'namanbilis': 2042, '13': 2043, 'june': 2044, 'additional': 2045, 'naresolve': 2046, 'mababa': 2047, 'nabibigay': 2048, 'nanresolution': 2049, '2md': 2050, 'resolution': 2051, 'nagfliflicker': 2052, 'namamatay': 2053, 'nakakabit': 2054, 'kailangan': 2055, 'tanggalin': 2056, 'port': 2057, 'pagpahingahin': 2058, 'delivers': 2059, 'playback': 2060, 'text': 2061, 'references': 2062, 'edited': 2063, 'unit': 2064, 'rotation': 2065, 'macos': 2066, 'catalina': 2067, 'usable': 2068, 'where': 2069, 'comaptibility': 2070, 'etong': 2071, 'chipset': 2072, 'extend': 2073, 'kayong': 2074, 'presenter': 2075, 'playstore': 2076, 'otg': 2077, 'mismo': 2078, 'magsisilbing': 2079, 'host': 2080, 'nagwowork': 2081, 'madetermine': 2082, 'nokia': 2083, 'tech': 2084, 'mhl': 2085, 'following': 2086, 'manual': 2087, 'pg': 2088, 'accomodating': 2089, 'tanong': 2090, 'regulator': 2091, 'iikutin': 2092, 'clockwise': 2093, 'bumilis': 2094, 'securedly': 2095, 'issues': 2096, 'whatsoever': 2097, \"son's\": 2098, 'uses': 2099, 'class': 2100, 'course': 2101, 'cools': 2102, 'puwede': 2103, 'max': 2104, 'users': 2105, 'huawei': 2106, 'samin': 2107, 'feeling': 2108, 'weak': 2109, 'having': 2110, 'potent': 2111, 'warning': 2112, 'magagamit': 2113, '6fan': 2114, 'coolong': 2115, 'jsjsudufudhfuufifieieisisiduduwuwuusufudusudududududu': 2116, 'agreement': 2117, 'previously': 2118, 'tricked': 2119, 'siyang': 2120, 'mode': 2121, 'kapit': 2122, 'pandikit': 2123, 'improvise': 2124, 'sided': 2125, 'tape': 2126, 'regards': 2127, 'napapailaw': 2128, 'ibat': 2129, 'pipilian': 2130, 'iroll': 2131, 'lighting': 2132, 'modes': 2133, 'during': 2134, 'natusok': 2135, 'tagos': 2136, 'patungan': 2137, 'kakagawa': 2138, 'lamesa': 2139, 'sections': 2140, 'strip': 2141, 'dimmer': 2142, 'plugged': 2143, 'shut': 2144, 'manually': 2145, 'breathing': 2146, 'making': 2147, 'gradual': 2148, 'slower': 2149, 'stiff': 2150, 'reminds': 2151, 'xmas': 2152, 'premium': 2153, 'intended': 2154, 'issued': 2155, 'help': 2156, 'sequence': 2157, 'mabagal': 2158, 'texture': 2159, 'secs': 2160, 'appear': 2161, 'multi': 2162, 'nagblend': 2163, 'nagfufunction': 2164, 'mn': 2165, 'edeliver': 2166, '1star': 2167, 'iilaw': 2168, 'umilaw': 2169, 'transport': 2170, 'standards': 2171, 'ooooooookkkkkkkkkkk': 2172, 'asaorted': 2173, 'binenta': 2174, 'kasamahan': 2175, '65': 2176, 'co': 2177, 'nlang': 2178, 'drained': 2179, '3x': 2180, 'rate': 2181, '5stars': 2182, 'shipment': 2183, 'kmi': 2184, 'province': 2185, '53': 2186, 'rcvd': 2187, 'iphone': 2188, 'x': 2189, '18': 2190, 'yuwn': 2191, 'fingers': 2192, 'crossed': 2193, 'choose': 2194, 'refer': 2195, 'hoped': 2196, 'mixed': 2197, 'madam': 2198, 'lalake': 2199, 'jsjsjsjsjsjsnsbbsbsbsbsbsnjshshshdhdhdhdjdjdjdjdjdjjdjdjdjdjdjdndnndndndndndndndndnndndndndn': 2200, 'disaapoint': 2201, 'pinadla': 2202, 'assorted': 2203, 'mahagin': 2204, 'kapitbhay': 2205, 'vilis': 2206, 'gdfffffgsusksjskkskskskjsjsjsjsjsjsjdjdjakskkskskskksksjdnsnsnskkskskdkkskdkskdkkdkdkdkfnskskkdkskkskskdkd': 2207, 'nahabaan': 2208, 'qnd': 2209, 'special': 2210, 'cctv': 2211, 'seem': 2212, 'chineck': 2213, 'sturnilio': 2214, 'release': 2215, 'shadow': 2216, 'produced': 2217, 'hahahahabdbxjendkcnrnskksnrksubrkwoinfhwoalamwrbfidubeusuhbebuudbwhifhebduxinsbs': 2218, '100': 2219, 'selller': 2220, 'magclose': 2221, 'trabsaction': 2222, 'magconfirm': 2223, 'makuhang': 2224, 'madwliver': 2225, 'mouae': 2226, 'magalaw': 2227, 'tyagain': 2228, 'movement': 2229, 'pointer': 2230, 'mousepad': 2231, 'responded': 2232, 'messages': 2233, 'mahirap': 2234, 'igalaw': 2235, 'pumupunta': 2236, 'yu': 2237, 'sensitivity': 2238, 'wheel': 2239, 'weight': 2240, 'dropping': 2241, 'nagsstop': 2242, 'dragging': 2243, 'sguro': 2244, \"that's\": 2245, 'backlit': 2246, 'functions': 2247, 'telling': 2248, 'siblings': 2249, \"y'all\": 2250, 'sobang': 2251, 'happ': 2252, 'cuteness': 2253, 'overload': 2254, 'napakabait': 2255, 'kausap': 2256, 'obsessed': 2257, 'gandaaaaaaaaaaaaaaaaaaaaaaaaaaaaaaaaaaaaaaaaaaaaaaq': 2258, 'board': 2259, 'matigas': 2260, 'iclick': 2261, 'hanapin': 2262, 'gagana': 2263, 'longer': 2264, 'enjoy': 2265, \"mouse's\": 2266, 'keycaps': 2267, 'keyboards': 2268, 'pake': 2269, 'hahahahhahahahahahajajajajahhahahahah': 2270, 'nahala': 2271, 'ahhahahhajaha': 2272, 'konting': 2273, 'gasgas': 2274, 'keybaord': 2275, 'managed': 2276, 'sablay': 2277, 'j': 2278, 'ninjavan': 2279, 'addition': 2280, 'naulan': 2281, 'siguradong': 2282, 'mababasa': 2283, 'delivering': 2284, 'kayalang': 2285, 'factors': 2286, 'busy': 2287, 'nakapagreview': 2288, 'thankfully': 2289, 'tugma': 2290, 'shift': 2291, 'sign': 2292, 'lumalabas': 2293, 'doing': 2294, 'initial': 2295, 'bz': 2296, 'nailaw': 2297, 'padin': 2298, 'shutdown': 2299, 'shown': 2300, 'operational': 2301, \"s'ya\": 2302, 'blk': 2303, 'kahon': 2304, 'onti': 2305, 'nadismaya': 2306, 'nakakatamad': 2307, 'usually': 2308, 'madilim': 2309, 'makita': 2310, 'letter': 2311, 'uellowish': 2312, 'indi': 2313, 'pagiging': 2314, 'lock': 2315, 'soooooo': 2316, 'excel': 2317, 'switch': 2318, 'pailaw': 2319, 'produkto': 2320, 'ngunit': 2321, 'kaganda': 2322, 'kaniyang': 2323, 'performance': 2324, 'nalamang': 2325, 'letra': 2326, 'napindot': 2327, 'gilid': 2328, 'mechanical': 2329, 'ecstatic': 2330, 've': 2331, 'searching': 2332, 'coral': 2333, 'is…': 2334, 'this…': 2335, 'buble': 2336, 'wrapping': 2337, 'tagged': 2338, 'genuine': 2339, 'scheduled': 2340, 'appliances': 2341, 'including': 2342, 'digibox': 2343, 'electric': 2344, 'air': 2345, 'purifier': 2346, 'aircon': 2347, 'lamps': 2348, 'room': 2349, 'voice': 2350, 'controlled': 2351, 'napakagandang': 2352, 'original': 2353, 'malagkit': 2354, '4s': 2355, 'mabils': 2356, 'rubberized': 2357, 'sticky': 2358, 'unboxed': 2359, 'sku': 2360, 'variation': 2361, 'sold': 2362, 'reached': 2363, 'respond': 2364, 'offer': 2365, 'voucher': 2366, 'compensate': 2367, 'mistake': 2368, 'trouble': 2369, 'prepared': 2370, 'pairing': 2371, 'edifier': 2372, 'saksakan': 2373, 'jack': 2374, 'intindihin': 2375, 'nagtagal': 2376, 'masaya': 2377, 'cousin': 2378, '10ay': 2379, 'bongga': 2380, 'lsobrang': 2381, 'linaw': 2382, 'naghahanap': 2383, 'magandang': 2384, 'malinis': 2385, 'magwork': 2386, 'pagkapackage': 2387, 'recently': 2388, 'volume': 2389, 'press': 2390, 'observation': 2391, 'song': 2392, 'goes': 2393, 'due': 2394, 'yt': 2395, 'army': 2396, 'buo': 2397, 'kakaorder': 2398, 'kahapon': 2399, 'malobat': 2400, 'importante': 2401, 'nakakaapak': 2402, 'pinahaba': 2403, 'coins': 2404, 'experience': 2405, 'meh': 2406, 'boosting': 2407, 'netflix': 2408, 'games': 2409, 'bassy': 2410, 'itest': 2411, 'biglang': 2412, 'tenga': 2413, 'kulob': 2414, '210': 2415, 'twice': 2416, 'trace': 2417, 'malow': 2418, 'oct': 2419, '23': 2420, 'biyahe': 2421, 'bike': 2422, 'speacker': 2423, 'papunta': 2424, 'gym': 2425, '40mins': 2426, 'kó': 2427, 'earpiece': 2428, 'sabagay': 2429, 'cia': 2430, 'papanu': 2431, 'mapakinabangan': 2432, 'babait': 2433, 'simpleng': 2434, 'pagpack': 2435, 'dilivery': 2436, 'nagiging': 2437, 'maingat': 2438, 'pagdadala': 2439, '☺': 2440, 'nakabubble': 2441, 'aspect': 2442, 'ear': 2443, 'mainis': 2444, 'gumagaan': 2445, 'nawawala': 2446, 'kabila': 2447, 'haysss': 2448, 'irereturn': 2449, 'magbabayad': 2450, 'shippingkaya': 2451, 'afford': 2452, 'mapapamahal': 2453, 'hinde': 2454, 'rap': 2455, 'esom': 2456, 'payoff': 2457, 'brush': 2458, 'flat': 2459, 'curved': 2460, 'magagos': 2461, 'maliban': 2462, 'gabda': 2463, 'girls': 2464, 'messed': 2465, 'beauty': 2466, 'babbaaahjjkkmmnhshsusuanansbhsuskskamsnbsjsjsjsjsksmmmbhjkkkkijjnjjjkjjjjjjkisksksmsmsssjskmssnsjusisksnsmsnsjjsjsmsmsmsmsmskskskksmsmskskmsmsmsmsmsjjsjsjsjsjmsmsmmssmmsmsmsmsmmsmsmsmsmnsjsjsjjsjsjsjsjsjjsjs': 2467, 'maship': 2468, 'pagkadating': 2469, 'nahirapan': 2470, 'kunin': 2471, 'nailpolish': 2472, 'nakailang': 2473, 'pahid': 2474, 'makuha': 2475, 'swipe': 2476, 'clay': 2477, 'fair': 2478, 'ehh': 2479, 'teal': 2480, 'ultramarine': 2481, 'coverage': 2482, 'sheer': 2483, 'unfair': 2484, 'opaque': 2485, 'suppose': 2486, 'redo': 2487, 'done': 2488, 'read': 2489, 'reviewi': 2490, 'truthrevealed': 2491, '■product': 2492, '》liquid': 2493, 'coatings': 2494, 'shiny': 2495, '》color': 2496, 'fragrance': 2497, 'polishes': 2498, 'suggestion': 2499, 'lessen': 2500, 'scent': 2501, '》packaging': 2502, 'aesthetic': 2503, 'shake': 2504, 'applicator': 2505, '》applicator': 2506, 'soft': 2507, 'gets': 2508, '■delivery': 2509, 'yesterday': 2510, 'shops': 2511, 'dikit': 2512, 'nabunot': 2513, 'pilikmata': 2514, 'strong': 2515, 'indeed': 2516, 'magnda': 2517, 'bagung': 2518, 'kang': 2519, 'makitang': 2520, 'male': 2521, 'syaaaa': 2522, 'thankyouuu': 2523, 'car': 2524, '2e9dxcar': 2525, '2e9dx': 2526, 'per': 2527, 'usual': 2528, 'manong': 2529, 'courteous': 2530, 'containing': 2531, 'cannot': 2532, 'glue': 2533, 'sticks': 2534, 'lid': 2535, 'hurt': 2536, 'falsies': 2537, 'eyelashes': 2538, 'nichido': 2539, 'container': 2540, 'famous': 2541, 'vlogger': 2542, 'questioning': 2543, 'considerate': 2544, 'makeup': 2545, 'despite': 2546, 'damages': 2547, 'appropriate': 2548, 'magkamake': 2549, 'talagatas': 2550, 'kakaiba': 2551, 'talagathankyou': 2552, 'looked': 2553, 'bigger': 2554, 'material': 2555, 'fffffjhdvhfbggvhggggfddssgbjutfvdsghgkeyieykshksukduoduoehldukdoyyitwwteyeyyioyyoeyuoeyyoluslhour': 2556, 'grt': 2557, 'nyang': 2558, 'tatlo': 2559, 'paisa': 2560, 'gf': 2561, 'natatanggal': 2562, 'db': 2563, 'lan': 2564, 'nde': 2565, 'nagets': 2566, 'naideliver': 2567, 'kulng': 2568, 'lipsticks': 2569, 'ate': 2570, 'ri': 2571, 'gustuhan': 2572, 'natu': 2573, 'inyu': 2574, 'hayss': 2575, 'inintay': 2576, 'tqpos': 2577, 'bango': 2578, 'asim': 2579, 'clarify': 2580, 'malito': 2581, '365': 2582, 'sakn': 2583, 'lipstik': 2584, 'sponge': 2585, 'magulo': 2586, 'pagkakaayos': 2587, 'doubt': 2588, 'undamaged': 2589, 'cancel': 2590, 'mascara': 2591, 'confidence': 2592, 'maskera': 2593, 'foam': 2594, 'kin': 2595, 'nakakadismaya': 2596, 'gagawin': 2597, 'dto': 2598, 'pagorder': 2599, 'kakadissapoint': 2600, 'nexttym': 2601, 'maglalagay': 2602, 'isasama': 2603, 'haystttt': 2604, 'kasinungaling': 2605, 'ginagawa': 2606, 'packeging': 2607, 'grand': 2608, 'child': 2609, 'iisa': 2610, 'banaman': 2611, 'jusko': 2612, 'hatdog': 2613, 'lipgloss': 2614, 'parcell': 2615, 'definetely': 2616, 'okie': 2617, 'amaze': 2618, 'pinangregalo': 2619, 'lol': 2620, 'halos': 2621, 'kakumay': 2622, 'glittery': 2623, 'shines': 2624, 'smell': 2625, 'lagayan': 2626, 'naiikot': 2627, 'badly': 2628, 'people': 2629, 'woth': 2630, 'pigmentation': 2631, 'bubblewrap': 2632, 'bronzer': 2633, 'gorgeous': 2634, 'fresh': 2635, 'tiktok': 2636, 'youuuu': 2637, 'naubos': 2638, 'nakakablooming': 2639, 'pagdeliver': 2640, 'pagnaubos': 2641, 'jajhsushhshdhdujdjduidjdjjdjduhe': 2642, 'jsjzhgstsjsijshsyhshsjsjgstshsusuhwuwh': 2643, 'budget': 2644, 'cguradong': 2645, 'ssisi': 2646, 'irritate': 2647, 'perhaps': 2648, 'spots': 2649, 'overrated': 2650, 'nacoconceal': 2651, 'imperfection': 2652, 'mabango': 2653, 'credits': 2654, 'haven': 2655, 'proper': 2656, 'matatakpan': 2657, 'marka': 2658, 'balat': 2659, 'peklat': 2660, 'visible': 2661, 'somehow': 2662, 'added': 2663, 'mesyo': 2664, 'described': 2665, 'ago': 2666, \"wasn't\": 2667, 'wiped': 2668, 'sweat': 2669, 'bb': 2670, 'cream': 2671, 'advertisment': 2672, 'live': 2673, 'advertise': 2674, 'eventhough': 2675, 'lighter': 2676, 'foundation': 2677, 'sit': 2678, 'acidic': 2679, 'causes': 2680, 'breakouts': 2681, 'recieve': 2682, 'conceal': 2683, 'anything': 2684, 'aku': 2685, 'wife': 2686, 'magdiliver': 2687, 'shajajajkajauwuauaja': 2688, 'hahsjsjsjajjwjaja': 2689, 'sis': 2690, 'hahaahhaha': 2691, 'loving': 2692, 'thanxmuch': 2693, 'vintage': 2694, 'tee': 2695, 'heels': 2696, 'cobblestones': 2697, 'sequin': 2698, 'smile': 2699, 'sensual': 2700, 'politics': 2701, \"dancin'\": 2702, \"levi's\": 2703, 'drunk': 2704, 'streetlight': 2705, 'hand': 2706, 'sweatshirt': 2707, 'baby': 2708, 'kiss': 2709, 'felt': 2710, 'cardigan': 2711, \"someone's\": 2712, 'bed': 2713, 'masipag': 2714, 'natry': 2715, 'totoo': 2716, 'subtle': 2717, 'pigment': 2718, 'kitang': 2719, 'subscribe': 2720, 'anongsayotv': 2721, 'aa': 2722, 'pagoapadeliver': 2723, 'faster': 2724, 'brittle': 2725, 'gstong': 2726, 'morenang': 2727, 'tulad': 2728, 'bbili': 2729, 'ult': 2730, 'fs': 2731, 'mhal': 2732, 'sf': 2733, 'mbilis': 2734, 'dmtng': 2735, 'kgabi': 2736, 'knabuksan': 2737, 'wellthe': 2738, 'learn': 2739, 'warmtone': 2740, 'tones': 2741, 'napakadali': 2742, 'iapply': 2743, 'hahahaahaahaahaahhaahhahaahahahaahahahaahahahaaahahha': 2744, 'ulet': 2745, 'nabilibut': 2746, 'pigmented': 2747, 'dry': 2748, 'lips': 2749, 'eye': 2750, '5x': 2751, 'kona': 2752, 'tagala': 2753, 'guess': 2754, 'isn': 2755, 'filo': 2756, 'virgin': 2757, 'fill': 2758, 'areas': 2759, 'kua': 2760, 'yng': 2761, 'pagkaka': 2762, 'nyapara': 2763, 'pagka': 2764, 'wear': 2765, 'nicely': 2766, 'nkpg': 2767, 'feedback': 2768, 'natapon': 2769, 'karton': 2770, 'nyan': 2771, 'mtagal': 2772, 'shades': 2773, 'pencils': 2774, '0k': 2775, 'tumatagal': 2776, 'dali': 2777, 'ends': 2778, 'youre': 2779, 'careful': 2780, 'putting': 2781, 'cap': 2782, 'smushed': 2783, 'sadtttt': 2784, 'magtry': 2785, 'lip': 2786, 'ink': 2787, 'completely': 2788, 'understand': 2789, 'shippibg': 2790, 'clients': 2791, 'approachable': 2792, 'nagmessage': 2793, 'napalitan': 2794, 'siguro': 2795, 'kasmooth': 2796, 'nagkakaroon': 2797, 'bumps': 2798, 'over': 2799, 'quickly': 2800, 'hard': 2801, 'draw': 2802, 'brows': 2803, 'might': 2804, 'bkt': 2805, 'nd': 2806, 'nun': 2807, 'tnry': 2808, 'tnxz': 2809, 'ngdeliver': 2810, 'guato': 2811, 'dominant': 2812, 'pinagkaiba': 2813, 'blend': 2814, 'maubos': 2815, 'maputol': 2816, 'mka': 2817, 'salanat': 2818, 'nagdeliver': 2819, 'bebenta': 2820, 'tita': 2821, 'mahilig': 2822, 'pangkilay': 2823, 'nicel': 2824, 'awake': 2825, 'pay': 2826, 'beke': 2827, 'sia': 2828, 'mabenta': 2829, 'mai': 2830, 'matanggap': 2831, 'nf': 2832, 'narecieved': 2833, 'mula': 2834, 'naipadala': 2835, 'doon': 2836, 'gel': 2837, 'ordinary': 2838, 'ones': 2839, 'dept': 2840, 'softer': 2841, '6yr': 2842, 'yr': 2843, 'mataba': 2844, 'bata': 2845, 'add': 2846, 'sets': 2847, 'shirt': 2848, 'sizing': 2849, 'organics': 2850, 'consistent': 2851, 'reasonably': 2852, 'priced': 2853, 'cotton': 2854, 'dinmedyo': 2855, 'magada': 2856, 'nakupas': 2857, 'asul': 2858, 'years': 2859, 'higher': 2860, 'diff': 2861, 'non': 2862, 'adults': 2863, 'colored': 2864, 'yrs': 2865, 'presentable': 2866, 'sanayung': 2867, '1300': 2868, 'peso': 2869, 'dagdag': 2870, '20pc': 2871, 'magagastos': 2872, 'paglagan': 2873, 'gaganda': 2874, 'kuha': 2875, 'hihingin': 2876, 'favor': 2877, 'pakitranslate': 2878, 'sulat': 2879, 'galing': 2880, 'english': 2881, 'sige': 2882, 'basahin': 2883, 'dear': 2884, 'brent': 2885, 'saw': 2886, 'sumaya': 2887, 'ge': 2888, 'ituloy': 2889, 'thats': 2890, 'collect': 2891, 'pictures': 2892, 'kinolekta': 2893, 'ipost': 2894, 'erefund': 2895, 'plssssssss': 2896, 'son': 2897, 'sinuot': 2898, 'nlagay': 2899, 'deretcho': 2900, 'laundry': 2901, 'susuot': 2902, 'kz': 2903, '12pesos': 2904, 'bahay': 2905, 'doblehin': 2906, 'makina': 2907, 'iba2': 2908, 'mapunit': 2909, 'halo': 2910, 'cartoons': 2911, 'saken': 2912, 'bagal': 2913, 'usad': 2914, 'ximex': 2915, 'pantulog': 2916, 'pagtyagaan': 2917, 'oky': 2918, 'hehee': 2919, 'garter': 2920, 'natahi': 2921, 'puhunan': 2922, 'bogus': 2923, 'marupok': 2924, 'bababa': 2925, 'til': 2926, 'natatawa': 2927, 'ak': 2928, 'thankyouuuuu': 2929, 'verry': 2930, 'saktong': 2931, 'cheapest': 2932, 'generally': 2933, 'pockets': 2934, 'pgka': 2935, 'prize': 2936, 'kumpara': 2937, 'delayed': 2938, 'sken': 2939, 'disapointing': 2940, 'costomer': 2941, 'pagkatahi': 2942, 'lace': 2943, 'many': 2944, 'loosen': 2945, 'strands': 2946, 'adjust': 2947, 'umorder': 2948, 'aperfect': 2949, 'line': 2950, 'kolang': 2951, 'ankle': 2952, 'shoes': 2953, 'page': 2954, 'aga': 2955, 'fits': 2956, 'youuuuuuuuu': 2957, 'youuuuuuuuuuuuuuuuuuuuuuuuuuuuuu': 2958, 'stitches': 2959, 'tatastas': 2960, 'daming': 2961, 'natatatngal': 2962, 'mjo': 2963, 'nla': 2964, 'sktong2x': 2965, 'tyaka': 2966, \"5'9\": 2967, 'waistline': 2968, 'ugh': 2969, 'masarap': 2970, 'suotin': 2971, 'nsa': 2972, 'cart': 2973, 'orderin': 2974, 'pangatlo': 2975, 'kuna': 2976, 'knina': 2977, 'itim': 2978, \"5'7\": 2979, 'partner': 2980, 'bulsa': 2981, 'lacks': 2982, 'hole': 2983, 'tinamad': 2984, 'ibng': 2985, 'dumatiing': 2986, 'pagbigyan': 2987, 'bagong': 2988, 'nilabhan': 2989, 'lumiit': 2990, 'bitin': 2991, 'pantalon': 2992, 'umaaaaaay': 2993, 'control': 2994, 'tsinek': 2995, 'pagkakatahi': 2996, 'pack': 2997, 'yumg': 2998, 'haist': 2999, 'inorderan': 3000, 'klase': 3001, 'pnadala': 3002, 'mlaki': 3003, 'baba': 3004, 'paa': 3005, 'dko': 3006, 'maisuot': 3007, 'entrada': 3008, 'jsjsjsjskksodidjdhsjusushebshsgsosbslznsjshsvsghsslsnshsgssisvsyslabsisfaoabsushshzhshshshsbhshsozkzjzjsjsjushshhsbehekwososksksjshehejshehshsjowsjjshsshhshshshshsbhshsusjsjsjsososjehesjsjsksksksjsjjssjsjsjis': 3009, 'dyan': 3010, 'kelan': 3011, 'size28': 3012, 'laylayan': 3013, 'lumang': 3014, 'hah': 3015, 'masikip': 3016, 'magsusuot': 3017, 'tym': 3018, 'maireturn': 3019, 'ireorder': 3020, 'ngpapalit': 3021, 'rude': 3022, 'denilever': 3023, 'diffrent': 3024, 'exoecting': 3025, 'zise': 3026, 'stretch': 3027, 'slim': 3028, 'cya': 3029, 'pale': 3030, 'nakakadismayado': 3031, 'mgkaiba': 3032, 'nakakadisapoint': 3033, 'kindly': 3034, 'meeting': 3035, 'staffs': 3036, 'magkamali2': 3037, 'kinailangan': 3038, 'tahiin': 3039, 'umayos': 3040, 'yoko': 3041, 'reklamo': 3042, 'client': 3043, 'nanaman': 3044, 'tipaklong': 3045, 'palito': 3046, 'muscle': 3047, '33': 3048, 'mam': 3049, 'evening': 3050, 'isosoli': 3051, 'magkaibang': 3052, 'bumayad': 3053, 'dissapointing': 3054, 'skinnyjeans': 3055, 'fitting': 3056, 'ambel': 3057, 'toh': 3058, 'basa²': 3059, 'kumuha': 3060, 'ineexpect': 3061, 'pict': 3062, 'malayong': 3063, 'malayo': 3064, 'sau': 3065, 'bhi3': 3066, 'h': 3067, \"5'\": 3068, '47': 3069, 'kg': 3070, 'built': 3071, 'panalong': 3072, 'panalofirst': 3073, 'nasukat': 3074, 'bgo': 3075, 'ipadeliver': 3076, 'medjo': 3077, 'warm': 3078, 'snuggly': 3079, 'puede': 3080, 'png': 3081, 'tagaytay': 3082, 'baguio': 3083, 'sagada': 3084, 'ur': 3085, 'normally': 3086, 'l': 3087, 'prang': 3088, 'gand': 3089, 'tila': 3090, 'sukat': 3091, 'ooopppss': 3092, 'napakanipis': 3093, 'sumunod': 3094, 'qoh': 3095, 'nasuot': 3096, 'ding': 3097, 'damit': 3098, 'lastly': 3099, 'binuksan': 3100, 'pagkaopen': 3101, 'dlawang': 3102, 'nainform': 3103, '2x': 3104, 'forward': 3105, 'makatanggap': 3106, 'mabuti': 3107, 'magbalot': 3108, 'magpadala': 3109, 'satistfied': 3110, 'ibinigay': 3111, 'note': 3112, 'prior': 3113, 'sinend': 3114, 'chiclet': 3115, 'likod': 3116, 'pako': 3117, 'poa': 3118, 'pangalawa': 3119, 'napahiya': 3120, 'bibigyan': 3121, 'panamin': 3122, 'pagbili': 3123, 'mabawi': 3124, 'ginastos': 3125, 'jackets': 3126, '336': 3127, '72': 3128, 'incomplete': 3129, 'th': 3130, 'cooperating': 3131}\n"
          ]
        }
      ]
    },
    {
      "cell_type": "markdown",
      "source": [
        "## 4. Train a sentiment model"
      ],
      "metadata": {
        "id": "RTU0X3wtMyIE"
      }
    },
    {
      "cell_type": "code",
      "source": [
        "# answer here\n",
        "model = tf.keras.Sequential([\n",
        "    tf.keras.layers.Embedding(vocab_size, embedding_dim, input_length = max_length),\n",
        "    tf.keras.layers.GlobalAveragePooling1D(),\n",
        "    tf.keras.layers.Dropout(0.5),\n",
        "    tf.keras.layers.Dense(32, activation='relu'),\n",
        "    tf.keras.layers.Dense(1, activation='sigmoid')\n",
        "])\n",
        "model.compile(loss='binary_crossentropy',optimizer='adam',metrics=['accuracy'])\n",
        "model.summary()"
      ],
      "metadata": {
        "id": "_rK5pEDnM2lA",
        "outputId": "10b06145-eeca-46bd-dbb5-0b84b34ef802",
        "colab": {
          "base_uri": "https://localhost:8080/",
          "height": 379
        }
      },
      "execution_count": 8,
      "outputs": [
        {
          "output_type": "stream",
          "name": "stderr",
          "text": [
            "/usr/local/lib/python3.11/dist-packages/keras/src/layers/core/embedding.py:90: UserWarning: Argument `input_length` is deprecated. Just remove it.\n",
            "  warnings.warn(\n"
          ]
        },
        {
          "output_type": "display_data",
          "data": {
            "text/plain": [
              "\u001b[1mModel: \"sequential\"\u001b[0m\n"
            ],
            "text/html": [
              "<pre style=\"white-space:pre;overflow-x:auto;line-height:normal;font-family:Menlo,'DejaVu Sans Mono',consolas,'Courier New',monospace\"><span style=\"font-weight: bold\">Model: \"sequential\"</span>\n",
              "</pre>\n"
            ]
          },
          "metadata": {}
        },
        {
          "output_type": "display_data",
          "data": {
            "text/plain": [
              "┏━━━━━━━━━━━━━━━━━━━━━━━━━━━━━━━━━┳━━━━━━━━━━━━━━━━━━━━━━━━┳━━━━━━━━━━━━━━━┓\n",
              "┃\u001b[1m \u001b[0m\u001b[1mLayer (type)                   \u001b[0m\u001b[1m \u001b[0m┃\u001b[1m \u001b[0m\u001b[1mOutput Shape          \u001b[0m\u001b[1m \u001b[0m┃\u001b[1m \u001b[0m\u001b[1m      Param #\u001b[0m\u001b[1m \u001b[0m┃\n",
              "┡━━━━━━━━━━━━━━━━━━━━━━━━━━━━━━━━━╇━━━━━━━━━━━━━━━━━━━━━━━━╇━━━━━━━━━━━━━━━┩\n",
              "│ embedding (\u001b[38;5;33mEmbedding\u001b[0m)           │ ?                      │   \u001b[38;5;34m0\u001b[0m (unbuilt) │\n",
              "├─────────────────────────────────┼────────────────────────┼───────────────┤\n",
              "│ global_average_pooling1d        │ ?                      │             \u001b[38;5;34m0\u001b[0m │\n",
              "│ (\u001b[38;5;33mGlobalAveragePooling1D\u001b[0m)        │                        │               │\n",
              "├─────────────────────────────────┼────────────────────────┼───────────────┤\n",
              "│ dropout (\u001b[38;5;33mDropout\u001b[0m)               │ ?                      │             \u001b[38;5;34m0\u001b[0m │\n",
              "├─────────────────────────────────┼────────────────────────┼───────────────┤\n",
              "│ dense (\u001b[38;5;33mDense\u001b[0m)                   │ ?                      │   \u001b[38;5;34m0\u001b[0m (unbuilt) │\n",
              "├─────────────────────────────────┼────────────────────────┼───────────────┤\n",
              "│ dense_1 (\u001b[38;5;33mDense\u001b[0m)                 │ ?                      │   \u001b[38;5;34m0\u001b[0m (unbuilt) │\n",
              "└─────────────────────────────────┴────────────────────────┴───────────────┘\n"
            ],
            "text/html": [
              "<pre style=\"white-space:pre;overflow-x:auto;line-height:normal;font-family:Menlo,'DejaVu Sans Mono',consolas,'Courier New',monospace\">┏━━━━━━━━━━━━━━━━━━━━━━━━━━━━━━━━━┳━━━━━━━━━━━━━━━━━━━━━━━━┳━━━━━━━━━━━━━━━┓\n",
              "┃<span style=\"font-weight: bold\"> Layer (type)                    </span>┃<span style=\"font-weight: bold\"> Output Shape           </span>┃<span style=\"font-weight: bold\">       Param # </span>┃\n",
              "┡━━━━━━━━━━━━━━━━━━━━━━━━━━━━━━━━━╇━━━━━━━━━━━━━━━━━━━━━━━━╇━━━━━━━━━━━━━━━┩\n",
              "│ embedding (<span style=\"color: #0087ff; text-decoration-color: #0087ff\">Embedding</span>)           │ ?                      │   <span style=\"color: #00af00; text-decoration-color: #00af00\">0</span> (unbuilt) │\n",
              "├─────────────────────────────────┼────────────────────────┼───────────────┤\n",
              "│ global_average_pooling1d        │ ?                      │             <span style=\"color: #00af00; text-decoration-color: #00af00\">0</span> │\n",
              "│ (<span style=\"color: #0087ff; text-decoration-color: #0087ff\">GlobalAveragePooling1D</span>)        │                        │               │\n",
              "├─────────────────────────────────┼────────────────────────┼───────────────┤\n",
              "│ dropout (<span style=\"color: #0087ff; text-decoration-color: #0087ff\">Dropout</span>)               │ ?                      │             <span style=\"color: #00af00; text-decoration-color: #00af00\">0</span> │\n",
              "├─────────────────────────────────┼────────────────────────┼───────────────┤\n",
              "│ dense (<span style=\"color: #0087ff; text-decoration-color: #0087ff\">Dense</span>)                   │ ?                      │   <span style=\"color: #00af00; text-decoration-color: #00af00\">0</span> (unbuilt) │\n",
              "├─────────────────────────────────┼────────────────────────┼───────────────┤\n",
              "│ dense_1 (<span style=\"color: #0087ff; text-decoration-color: #0087ff\">Dense</span>)                 │ ?                      │   <span style=\"color: #00af00; text-decoration-color: #00af00\">0</span> (unbuilt) │\n",
              "└─────────────────────────────────┴────────────────────────┴───────────────┘\n",
              "</pre>\n"
            ]
          },
          "metadata": {}
        },
        {
          "output_type": "display_data",
          "data": {
            "text/plain": [
              "\u001b[1m Total params: \u001b[0m\u001b[38;5;34m0\u001b[0m (0.00 B)\n"
            ],
            "text/html": [
              "<pre style=\"white-space:pre;overflow-x:auto;line-height:normal;font-family:Menlo,'DejaVu Sans Mono',consolas,'Courier New',monospace\"><span style=\"font-weight: bold\"> Total params: </span><span style=\"color: #00af00; text-decoration-color: #00af00\">0</span> (0.00 B)\n",
              "</pre>\n"
            ]
          },
          "metadata": {}
        },
        {
          "output_type": "display_data",
          "data": {
            "text/plain": [
              "\u001b[1m Trainable params: \u001b[0m\u001b[38;5;34m0\u001b[0m (0.00 B)\n"
            ],
            "text/html": [
              "<pre style=\"white-space:pre;overflow-x:auto;line-height:normal;font-family:Menlo,'DejaVu Sans Mono',consolas,'Courier New',monospace\"><span style=\"font-weight: bold\"> Trainable params: </span><span style=\"color: #00af00; text-decoration-color: #00af00\">0</span> (0.00 B)\n",
              "</pre>\n"
            ]
          },
          "metadata": {}
        },
        {
          "output_type": "display_data",
          "data": {
            "text/plain": [
              "\u001b[1m Non-trainable params: \u001b[0m\u001b[38;5;34m0\u001b[0m (0.00 B)\n"
            ],
            "text/html": [
              "<pre style=\"white-space:pre;overflow-x:auto;line-height:normal;font-family:Menlo,'DejaVu Sans Mono',consolas,'Courier New',monospace\"><span style=\"font-weight: bold\"> Non-trainable params: </span><span style=\"color: #00af00; text-decoration-color: #00af00\">0</span> (0.00 B)\n",
              "</pre>\n"
            ]
          },
          "metadata": {}
        }
      ]
    },
    {
      "cell_type": "code",
      "source": [
        "num_epochs = 50\n",
        "history = model.fit(\n",
        "    training_padded, training_rating_final, epochs=num_epochs,\n",
        "    validation_data=(testing_padded, testing_rating_final)\n",
        "    )"
      ],
      "metadata": {
        "id": "qJYAiRtkF5o1",
        "outputId": "3a5574d4-6081-4ca6-b0e8-d471ddf2f86e",
        "colab": {
          "base_uri": "https://localhost:8080/"
        }
      },
      "execution_count": 9,
      "outputs": [
        {
          "output_type": "stream",
          "name": "stdout",
          "text": [
            "Epoch 1/50\n",
            "\u001b[1m25/25\u001b[0m \u001b[32m━━━━━━━━━━━━━━━━━━━━\u001b[0m\u001b[37m\u001b[0m \u001b[1m3s\u001b[0m 30ms/step - accuracy: 0.5378 - loss: 0.6906 - val_accuracy: 0.2139 - val_loss: 0.7501\n",
            "Epoch 2/50\n",
            "\u001b[1m25/25\u001b[0m \u001b[32m━━━━━━━━━━━━━━━━━━━━\u001b[0m\u001b[37m\u001b[0m \u001b[1m0s\u001b[0m 5ms/step - accuracy: 0.5425 - loss: 0.6865 - val_accuracy: 0.2139 - val_loss: 0.7745\n",
            "Epoch 3/50\n",
            "\u001b[1m25/25\u001b[0m \u001b[32m━━━━━━━━━━━━━━━━━━━━\u001b[0m\u001b[37m\u001b[0m \u001b[1m0s\u001b[0m 5ms/step - accuracy: 0.6012 - loss: 0.6721 - val_accuracy: 0.2139 - val_loss: 0.7731\n",
            "Epoch 4/50\n",
            "\u001b[1m25/25\u001b[0m \u001b[32m━━━━━━━━━━━━━━━━━━━━\u001b[0m\u001b[37m\u001b[0m \u001b[1m0s\u001b[0m 4ms/step - accuracy: 0.5890 - loss: 0.6675 - val_accuracy: 0.2139 - val_loss: 0.7499\n",
            "Epoch 5/50\n",
            "\u001b[1m25/25\u001b[0m \u001b[32m━━━━━━━━━━━━━━━━━━━━\u001b[0m\u001b[37m\u001b[0m \u001b[1m0s\u001b[0m 5ms/step - accuracy: 0.5635 - loss: 0.6666 - val_accuracy: 0.2139 - val_loss: 0.7652\n",
            "Epoch 6/50\n",
            "\u001b[1m25/25\u001b[0m \u001b[32m━━━━━━━━━━━━━━━━━━━━\u001b[0m\u001b[37m\u001b[0m \u001b[1m0s\u001b[0m 4ms/step - accuracy: 0.5898 - loss: 0.6555 - val_accuracy: 0.2537 - val_loss: 0.7284\n",
            "Epoch 7/50\n",
            "\u001b[1m25/25\u001b[0m \u001b[32m━━━━━━━━━━━━━━━━━━━━\u001b[0m\u001b[37m\u001b[0m \u001b[1m0s\u001b[0m 6ms/step - accuracy: 0.6604 - loss: 0.6267 - val_accuracy: 0.3383 - val_loss: 0.7187\n",
            "Epoch 8/50\n",
            "\u001b[1m25/25\u001b[0m \u001b[32m━━━━━━━━━━━━━━━━━━━━\u001b[0m\u001b[37m\u001b[0m \u001b[1m0s\u001b[0m 5ms/step - accuracy: 0.7191 - loss: 0.6035 - val_accuracy: 0.4975 - val_loss: 0.6731\n",
            "Epoch 9/50\n",
            "\u001b[1m25/25\u001b[0m \u001b[32m━━━━━━━━━━━━━━━━━━━━\u001b[0m\u001b[37m\u001b[0m \u001b[1m0s\u001b[0m 5ms/step - accuracy: 0.7699 - loss: 0.5417 - val_accuracy: 0.4627 - val_loss: 0.6849\n",
            "Epoch 10/50\n",
            "\u001b[1m25/25\u001b[0m \u001b[32m━━━━━━━━━━━━━━━━━━━━\u001b[0m\u001b[37m\u001b[0m \u001b[1m0s\u001b[0m 5ms/step - accuracy: 0.7961 - loss: 0.4876 - val_accuracy: 0.6169 - val_loss: 0.6422\n",
            "Epoch 11/50\n",
            "\u001b[1m25/25\u001b[0m \u001b[32m━━━━━━━━━━━━━━━━━━━━\u001b[0m\u001b[37m\u001b[0m \u001b[1m0s\u001b[0m 5ms/step - accuracy: 0.8471 - loss: 0.4209 - val_accuracy: 0.8209 - val_loss: 0.5318\n",
            "Epoch 12/50\n",
            "\u001b[1m25/25\u001b[0m \u001b[32m━━━━━━━━━━━━━━━━━━━━\u001b[0m\u001b[37m\u001b[0m \u001b[1m0s\u001b[0m 5ms/step - accuracy: 0.8696 - loss: 0.3929 - val_accuracy: 0.7413 - val_loss: 0.5652\n",
            "Epoch 13/50\n",
            "\u001b[1m25/25\u001b[0m \u001b[32m━━━━━━━━━━━━━━━━━━━━\u001b[0m\u001b[37m\u001b[0m \u001b[1m0s\u001b[0m 4ms/step - accuracy: 0.8730 - loss: 0.3478 - val_accuracy: 0.8408 - val_loss: 0.4640\n",
            "Epoch 14/50\n",
            "\u001b[1m25/25\u001b[0m \u001b[32m━━━━━━━━━━━━━━━━━━━━\u001b[0m\u001b[37m\u001b[0m \u001b[1m0s\u001b[0m 5ms/step - accuracy: 0.8761 - loss: 0.3180 - val_accuracy: 0.8308 - val_loss: 0.4622\n",
            "Epoch 15/50\n",
            "\u001b[1m25/25\u001b[0m \u001b[32m━━━━━━━━━━━━━━━━━━━━\u001b[0m\u001b[37m\u001b[0m \u001b[1m0s\u001b[0m 5ms/step - accuracy: 0.8910 - loss: 0.2814 - val_accuracy: 0.8358 - val_loss: 0.4476\n",
            "Epoch 16/50\n",
            "\u001b[1m25/25\u001b[0m \u001b[32m━━━━━━━━━━━━━━━━━━━━\u001b[0m\u001b[37m\u001b[0m \u001b[1m0s\u001b[0m 5ms/step - accuracy: 0.8900 - loss: 0.2671 - val_accuracy: 0.7363 - val_loss: 0.5820\n",
            "Epoch 17/50\n",
            "\u001b[1m25/25\u001b[0m \u001b[32m━━━━━━━━━━━━━━━━━━━━\u001b[0m\u001b[37m\u001b[0m \u001b[1m0s\u001b[0m 4ms/step - accuracy: 0.9051 - loss: 0.2477 - val_accuracy: 0.8308 - val_loss: 0.3991\n",
            "Epoch 18/50\n",
            "\u001b[1m25/25\u001b[0m \u001b[32m━━━━━━━━━━━━━━━━━━━━\u001b[0m\u001b[37m\u001b[0m \u001b[1m0s\u001b[0m 5ms/step - accuracy: 0.9064 - loss: 0.2448 - val_accuracy: 0.7861 - val_loss: 0.5019\n",
            "Epoch 19/50\n",
            "\u001b[1m25/25\u001b[0m \u001b[32m━━━━━━━━━━━━━━━━━━━━\u001b[0m\u001b[37m\u001b[0m \u001b[1m0s\u001b[0m 4ms/step - accuracy: 0.9087 - loss: 0.2170 - val_accuracy: 0.7910 - val_loss: 0.5233\n",
            "Epoch 20/50\n",
            "\u001b[1m25/25\u001b[0m \u001b[32m━━━━━━━━━━━━━━━━━━━━\u001b[0m\u001b[37m\u001b[0m \u001b[1m0s\u001b[0m 4ms/step - accuracy: 0.9522 - loss: 0.1747 - val_accuracy: 0.7861 - val_loss: 0.5570\n",
            "Epoch 21/50\n",
            "\u001b[1m25/25\u001b[0m \u001b[32m━━━━━━━━━━━━━━━━━━━━\u001b[0m\u001b[37m\u001b[0m \u001b[1m0s\u001b[0m 5ms/step - accuracy: 0.9423 - loss: 0.1834 - val_accuracy: 0.7761 - val_loss: 0.5823\n",
            "Epoch 22/50\n",
            "\u001b[1m25/25\u001b[0m \u001b[32m━━━━━━━━━━━━━━━━━━━━\u001b[0m\u001b[37m\u001b[0m \u001b[1m0s\u001b[0m 5ms/step - accuracy: 0.9366 - loss: 0.1816 - val_accuracy: 0.8209 - val_loss: 0.4772\n",
            "Epoch 23/50\n",
            "\u001b[1m25/25\u001b[0m \u001b[32m━━━━━━━━━━━━━━━━━━━━\u001b[0m\u001b[37m\u001b[0m \u001b[1m0s\u001b[0m 4ms/step - accuracy: 0.9534 - loss: 0.1555 - val_accuracy: 0.7910 - val_loss: 0.5137\n",
            "Epoch 24/50\n",
            "\u001b[1m25/25\u001b[0m \u001b[32m━━━━━━━━━━━━━━━━━━━━\u001b[0m\u001b[37m\u001b[0m \u001b[1m0s\u001b[0m 5ms/step - accuracy: 0.9529 - loss: 0.1408 - val_accuracy: 0.8159 - val_loss: 0.4974\n",
            "Epoch 25/50\n",
            "\u001b[1m25/25\u001b[0m \u001b[32m━━━━━━━━━━━━━━━━━━━━\u001b[0m\u001b[37m\u001b[0m \u001b[1m0s\u001b[0m 4ms/step - accuracy: 0.9395 - loss: 0.1492 - val_accuracy: 0.8010 - val_loss: 0.5084\n",
            "Epoch 26/50\n",
            "\u001b[1m25/25\u001b[0m \u001b[32m━━━━━━━━━━━━━━━━━━━━\u001b[0m\u001b[37m\u001b[0m \u001b[1m0s\u001b[0m 4ms/step - accuracy: 0.9391 - loss: 0.1736 - val_accuracy: 0.7861 - val_loss: 0.5379\n",
            "Epoch 27/50\n",
            "\u001b[1m25/25\u001b[0m \u001b[32m━━━━━━━━━━━━━━━━━━━━\u001b[0m\u001b[37m\u001b[0m \u001b[1m0s\u001b[0m 5ms/step - accuracy: 0.9411 - loss: 0.1487 - val_accuracy: 0.7960 - val_loss: 0.5625\n",
            "Epoch 28/50\n",
            "\u001b[1m25/25\u001b[0m \u001b[32m━━━━━━━━━━━━━━━━━━━━\u001b[0m\u001b[37m\u001b[0m \u001b[1m0s\u001b[0m 4ms/step - accuracy: 0.9744 - loss: 0.1148 - val_accuracy: 0.7960 - val_loss: 0.5693\n",
            "Epoch 29/50\n",
            "\u001b[1m25/25\u001b[0m \u001b[32m━━━━━━━━━━━━━━━━━━━━\u001b[0m\u001b[37m\u001b[0m \u001b[1m0s\u001b[0m 4ms/step - accuracy: 0.9388 - loss: 0.1409 - val_accuracy: 0.7910 - val_loss: 0.5799\n",
            "Epoch 30/50\n",
            "\u001b[1m25/25\u001b[0m \u001b[32m━━━━━━━━━━━━━━━━━━━━\u001b[0m\u001b[37m\u001b[0m \u001b[1m0s\u001b[0m 4ms/step - accuracy: 0.9668 - loss: 0.1201 - val_accuracy: 0.7463 - val_loss: 0.7142\n",
            "Epoch 31/50\n",
            "\u001b[1m25/25\u001b[0m \u001b[32m━━━━━━━━━━━━━━━━━━━━\u001b[0m\u001b[37m\u001b[0m \u001b[1m0s\u001b[0m 4ms/step - accuracy: 0.9539 - loss: 0.1282 - val_accuracy: 0.8060 - val_loss: 0.5226\n",
            "Epoch 32/50\n",
            "\u001b[1m25/25\u001b[0m \u001b[32m━━━━━━━━━━━━━━━━━━━━\u001b[0m\u001b[37m\u001b[0m \u001b[1m0s\u001b[0m 6ms/step - accuracy: 0.9679 - loss: 0.1093 - val_accuracy: 0.8358 - val_loss: 0.5048\n",
            "Epoch 33/50\n",
            "\u001b[1m25/25\u001b[0m \u001b[32m━━━━━━━━━━━━━━━━━━━━\u001b[0m\u001b[37m\u001b[0m \u001b[1m0s\u001b[0m 4ms/step - accuracy: 0.9527 - loss: 0.1303 - val_accuracy: 0.7811 - val_loss: 0.5904\n",
            "Epoch 34/50\n",
            "\u001b[1m25/25\u001b[0m \u001b[32m━━━━━━━━━━━━━━━━━━━━\u001b[0m\u001b[37m\u001b[0m \u001b[1m0s\u001b[0m 4ms/step - accuracy: 0.9673 - loss: 0.1004 - val_accuracy: 0.8159 - val_loss: 0.5202\n",
            "Epoch 35/50\n",
            "\u001b[1m25/25\u001b[0m \u001b[32m━━━━━━━━━━━━━━━━━━━━\u001b[0m\u001b[37m\u001b[0m \u001b[1m0s\u001b[0m 7ms/step - accuracy: 0.9666 - loss: 0.1144 - val_accuracy: 0.7761 - val_loss: 0.6469\n",
            "Epoch 36/50\n",
            "\u001b[1m25/25\u001b[0m \u001b[32m━━━━━━━━━━━━━━━━━━━━\u001b[0m\u001b[37m\u001b[0m \u001b[1m0s\u001b[0m 5ms/step - accuracy: 0.9659 - loss: 0.1052 - val_accuracy: 0.7960 - val_loss: 0.5757\n",
            "Epoch 37/50\n",
            "\u001b[1m25/25\u001b[0m \u001b[32m━━━━━━━━━━━━━━━━━━━━\u001b[0m\u001b[37m\u001b[0m \u001b[1m0s\u001b[0m 6ms/step - accuracy: 0.9731 - loss: 0.0822 - val_accuracy: 0.7811 - val_loss: 0.5992\n",
            "Epoch 38/50\n",
            "\u001b[1m25/25\u001b[0m \u001b[32m━━━━━━━━━━━━━━━━━━━━\u001b[0m\u001b[37m\u001b[0m \u001b[1m0s\u001b[0m 4ms/step - accuracy: 0.9605 - loss: 0.0943 - val_accuracy: 0.7015 - val_loss: 0.8319\n",
            "Epoch 39/50\n",
            "\u001b[1m25/25\u001b[0m \u001b[32m━━━━━━━━━━━━━━━━━━━━\u001b[0m\u001b[37m\u001b[0m \u001b[1m0s\u001b[0m 4ms/step - accuracy: 0.9545 - loss: 0.1154 - val_accuracy: 0.7960 - val_loss: 0.5654\n",
            "Epoch 40/50\n",
            "\u001b[1m25/25\u001b[0m \u001b[32m━━━━━━━━━━━━━━━━━━━━\u001b[0m\u001b[37m\u001b[0m \u001b[1m0s\u001b[0m 5ms/step - accuracy: 0.9622 - loss: 0.1010 - val_accuracy: 0.8308 - val_loss: 0.5423\n",
            "Epoch 41/50\n",
            "\u001b[1m25/25\u001b[0m \u001b[32m━━━━━━━━━━━━━━━━━━━━\u001b[0m\u001b[37m\u001b[0m \u001b[1m0s\u001b[0m 6ms/step - accuracy: 0.9648 - loss: 0.0861 - val_accuracy: 0.7761 - val_loss: 0.6031\n",
            "Epoch 42/50\n",
            "\u001b[1m25/25\u001b[0m \u001b[32m━━━━━━━━━━━━━━━━━━━━\u001b[0m\u001b[37m\u001b[0m \u001b[1m0s\u001b[0m 5ms/step - accuracy: 0.9619 - loss: 0.0884 - val_accuracy: 0.7562 - val_loss: 0.7569\n",
            "Epoch 43/50\n",
            "\u001b[1m25/25\u001b[0m \u001b[32m━━━━━━━━━━━━━━━━━━━━\u001b[0m\u001b[37m\u001b[0m \u001b[1m0s\u001b[0m 7ms/step - accuracy: 0.9713 - loss: 0.0944 - val_accuracy: 0.7413 - val_loss: 0.7993\n",
            "Epoch 44/50\n",
            "\u001b[1m25/25\u001b[0m \u001b[32m━━━━━━━━━━━━━━━━━━━━\u001b[0m\u001b[37m\u001b[0m \u001b[1m0s\u001b[0m 7ms/step - accuracy: 0.9519 - loss: 0.0824 - val_accuracy: 0.7910 - val_loss: 0.5872\n",
            "Epoch 45/50\n",
            "\u001b[1m25/25\u001b[0m \u001b[32m━━━━━━━━━━━━━━━━━━━━\u001b[0m\u001b[37m\u001b[0m \u001b[1m0s\u001b[0m 8ms/step - accuracy: 0.9640 - loss: 0.0983 - val_accuracy: 0.7861 - val_loss: 0.6245\n",
            "Epoch 46/50\n",
            "\u001b[1m25/25\u001b[0m \u001b[32m━━━━━━━━━━━━━━━━━━━━\u001b[0m\u001b[37m\u001b[0m \u001b[1m0s\u001b[0m 6ms/step - accuracy: 0.9830 - loss: 0.0595 - val_accuracy: 0.7761 - val_loss: 0.6549\n",
            "Epoch 47/50\n",
            "\u001b[1m25/25\u001b[0m \u001b[32m━━━━━━━━━━━━━━━━━━━━\u001b[0m\u001b[37m\u001b[0m \u001b[1m0s\u001b[0m 7ms/step - accuracy: 0.9693 - loss: 0.0931 - val_accuracy: 0.8209 - val_loss: 0.5791\n",
            "Epoch 48/50\n",
            "\u001b[1m25/25\u001b[0m \u001b[32m━━━━━━━━━━━━━━━━━━━━\u001b[0m\u001b[37m\u001b[0m \u001b[1m0s\u001b[0m 7ms/step - accuracy: 0.9564 - loss: 0.0953 - val_accuracy: 0.6667 - val_loss: 0.9316\n",
            "Epoch 49/50\n",
            "\u001b[1m25/25\u001b[0m \u001b[32m━━━━━━━━━━━━━━━━━━━━\u001b[0m\u001b[37m\u001b[0m \u001b[1m0s\u001b[0m 8ms/step - accuracy: 0.9751 - loss: 0.0719 - val_accuracy: 0.7711 - val_loss: 0.6834\n",
            "Epoch 50/50\n",
            "\u001b[1m25/25\u001b[0m \u001b[32m━━━━━━━━━━━━━━━━━━━━\u001b[0m\u001b[37m\u001b[0m \u001b[1m0s\u001b[0m 8ms/step - accuracy: 0.9651 - loss: 0.1009 - val_accuracy: 0.7761 - val_loss: 0.6667\n"
          ]
        }
      ]
    },
    {
      "cell_type": "code",
      "source": [
        "import matplotlib.pyplot as plt\n",
        "\n",
        "\n",
        "def plot_graphs(history, string):\n",
        "  plt.plot(history.history[string])\n",
        "  plt.plot(history.history['val_'+string])\n",
        "  plt.xlabel(\"Epochs\")\n",
        "  plt.ylabel(string)\n",
        "  plt.legend([string, 'val_'+string])\n",
        "  plt.show()\n",
        "\n",
        "plot_graphs(history, \"accuracy\")\n",
        "plot_graphs(history, \"loss\")"
      ],
      "metadata": {
        "colab": {
          "base_uri": "https://localhost:8080/",
          "height": 881
        },
        "id": "Eq3DvHJjho7-",
        "outputId": "631bab37-50d9-4007-b08a-56aa48190f66"
      },
      "execution_count": 10,
      "outputs": [
        {
          "output_type": "display_data",
          "data": {
            "text/plain": [
              "<Figure size 640x480 with 1 Axes>"
            ],
            "image/png": "[encoded data removed]"
          },
          "metadata": {}
        },
        {
          "output_type": "display_data",
          "data": {
            "text/plain": [
              "<Figure size 640x480 with 1 Axes>"
            ],
            "image/png": "[encoded data removed]"
          },
          "metadata": {}
        }
      ]
    },
    {
      "cell_type": "markdown",
      "source": [
        "## Get files for visualing the network"
      ],
      "metadata": {
        "id": "CNjOxlmhNNp8"
      }
    },
    {
      "cell_type": "code",
      "source": [
        "# answer here\n",
        "e = model.layers[0]\n",
        "weights = e.get_weights()[0]\n",
        "print(weights.shape) # shape: (vocab_size, embedding_dim)"
      ],
      "metadata": {
        "id": "TcLIumAPNQ5W",
        "outputId": "748cb22f-2f32-442a-e8dc-42de2ef2282f",
        "colab": {
          "base_uri": "https://localhost:8080/"
        }
      },
      "execution_count": 11,
      "outputs": [
        {
          "output_type": "stream",
          "name": "stdout",
          "text": [
            "(5000, 32)\n"
          ]
        }
      ]
    },
    {
      "cell_type": "code",
      "source": [
        "import io\n",
        "\n",
        "# Create the reverse word index\n",
        "reverse_word_index = dict([(value, key) for (key, value) in word_index.items()])\n",
        "\n",
        "# Write out the embedding vectors and metadata\n",
        "out_v = io.open('vecs.tsv', 'w', encoding='utf-8')\n",
        "out_m = io.open('meta.tsv', 'w', encoding='utf-8')\n",
        "\n",
        "# Iterate through the available word numbers in the reverse word index\n",
        "for word_num in reverse_word_index.keys():\n",
        "  # Skip the OOV token if you don't want to include it\n",
        "  if word_num == 1 and reverse_word_index[word_num] == \"<OOV>\":\n",
        "      continue\n",
        "  word = reverse_word_index[word_num]\n",
        "  embeddings = weights[word_num]\n",
        "  out_m.write(word + \"\\n\")\n",
        "  out_v.write('\\t'.join([str(x) for x in embeddings]) + \"\\n\")\n",
        "out_v.close()\n",
        "out_m.close()"
      ],
      "metadata": {
        "id": "YU0dB3VvGWML"
      },
      "execution_count": 12,
      "outputs": []
    },
    {
      "cell_type": "code",
      "source": [
        "try:\n",
        "  from google.colab import files\n",
        "except ImportError:\n",
        "  pass\n",
        "else:\n",
        "  files.download('vecs.tsv')\n",
        "  files.download('meta.tsv')"
      ],
      "metadata": {
        "id": "AR6f_VpgGYsJ",
        "outputId": "5a473c08-6ed1-4ea8-cfad-2f3c69bebd77",
        "colab": {
          "base_uri": "https://localhost:8080/",
          "height": 17
        }
      },
      "execution_count": 13,
      "outputs": [
        {
          "output_type": "display_data",
          "data": {
            "text/plain": [
              "<IPython.core.display.Javascript object>"
            ],
            "application/javascript": [
              "\n",
              "    async function download(id, filename, size) {\n",
              "      if (!google.colab.kernel.accessAllowed) {\n",
              "        return;\n",
              "      }\n",
              "      const div = document.createElement('div');\n",
              "      const label = document.createElement('label');\n",
              "      label.textContent = `Downloading \"${filename}\": `;\n",
              "      div.appendChild(label);\n",
              "      const progress = document.createElement('progress');\n",
              "      progress.max = size;\n",
              "      div.appendChild(progress);\n",
              "      document.body.appendChild(div);\n",
              "\n",
              "      const buffers = [];\n",
              "      let downloaded = 0;\n",
              "\n",
              "      const channel = await google.colab.kernel.comms.open(id);\n",
              "      // Send a message to notify the kernel that we're ready.\n",
              "      channel.send({})\n",
              "\n",
              "      for await (const message of channel.messages) {\n",
              "        // Send a message to notify the kernel that we're ready.\n",
              "        channel.send({})\n",
              "        if (message.buffers) {\n",
              "          for (const buffer of message.buffers) {\n",
              "            buffers.push(buffer);\n",
              "            downloaded += buffer.byteLength;\n",
              "            progress.value = downloaded;\n",
              "          }\n",
              "        }\n",
              "      }\n",
              "      const blob = new Blob(buffers, {type: 'application/binary'});\n",
              "      const a = document.createElement('a');\n",
              "      a.href = window.URL.createObjectURL(blob);\n",
              "      a.download = filename;\n",
              "      div.appendChild(a);\n",
              "      a.click();\n",
              "      div.remove();\n",
              "    }\n",
              "  "
            ]
          },
          "metadata": {}
        },
        {
          "output_type": "display_data",
          "data": {
            "text/plain": [
              "<IPython.core.display.Javascript object>"
            ],
            "application/javascript": [
              "download(\"download_9bedab34-68c0-4bfd-b726-8aeca625ea23\", \"vecs.tsv\", 1177161)"
            ]
          },
          "metadata": {}
        },
        {
          "output_type": "display_data",
          "data": {
            "text/plain": [
              "<IPython.core.display.Javascript object>"
            ],
            "application/javascript": [
              "\n",
              "    async function download(id, filename, size) {\n",
              "      if (!google.colab.kernel.accessAllowed) {\n",
              "        return;\n",
              "      }\n",
              "      const div = document.createElement('div');\n",
              "      const label = document.createElement('label');\n",
              "      label.textContent = `Downloading \"${filename}\": `;\n",
              "      div.appendChild(label);\n",
              "      const progress = document.createElement('progress');\n",
              "      progress.max = size;\n",
              "      div.appendChild(progress);\n",
              "      document.body.appendChild(div);\n",
              "\n",
              "      const buffers = [];\n",
              "      let downloaded = 0;\n",
              "\n",
              "      const channel = await google.colab.kernel.comms.open(id);\n",
              "      // Send a message to notify the kernel that we're ready.\n",
              "      channel.send({})\n",
              "\n",
              "      for await (const message of channel.messages) {\n",
              "        // Send a message to notify the kernel that we're ready.\n",
              "        channel.send({})\n",
              "        if (message.buffers) {\n",
              "          for (const buffer of message.buffers) {\n",
              "            buffers.push(buffer);\n",
              "            downloaded += buffer.byteLength;\n",
              "            progress.value = downloaded;\n",
              "          }\n",
              "        }\n",
              "      }\n",
              "      const blob = new Blob(buffers, {type: 'application/binary'});\n",
              "      const a = document.createElement('a');\n",
              "      a.href = window.URL.createObjectURL(blob);\n",
              "      a.download = filename;\n",
              "      div.appendChild(a);\n",
              "      a.click();\n",
              "      div.remove();\n",
              "    }\n",
              "  "
            ]
          },
          "metadata": {}
        },
        {
          "output_type": "display_data",
          "data": {
            "text/plain": [
              "<IPython.core.display.Javascript object>"
            ],
            "application/javascript": [
              "download(\"download_75ea02fa-3d38-4a80-ba57-846f1aa6c97c\", \"meta.tsv\", 23571)"
            ]
          },
          "metadata": {}
        }
      ]
    },
    {
      "cell_type": "markdown",
      "source": [
        "## 5. Predict sentiment with new reviews"
      ],
      "metadata": {
        "id": "KmGupN3hM-C4"
      }
    },
    {
      "cell_type": "code",
      "source": [
        "# answer here\n",
        "fake_ratings = ['bobo ang bts',\n",
        "                'sayang talaga kulang nang parts',\n",
        "                'basta seventeen parin']\n",
        "\n",
        "print(fake_ratings)\n",
        "\n",
        "# Create the sequences\n",
        "padding_type='post'\n",
        "sample_sequences = tokenizer.texts_to_sequences(fake_ratings)\n",
        "fakes_padded = pad_sequences(sample_sequences, padding=padding_type, maxlen=max_length)\n",
        "\n",
        "print('\\n Bakit magchatgpt pa eto ang better na ratings.! \\n')\n",
        "\n",
        "classes = model.predict(fakes_padded)\n",
        "\n",
        "# The closer the class is to 1, the more positive the review is deemed to be\n",
        "for x in range(len(fake_ratings)):\n",
        "  print(fake_ratings[x])\n",
        "  print(classes[x])\n",
        "  print('\\n')"
      ],
      "metadata": {
        "id": "FLQFHUCJNBNA",
        "colab": {
          "base_uri": "https://localhost:8080/"
        },
        "outputId": "2801decb-49ee-4593-a2db-27d9a010cfbe"
      },
      "execution_count": 14,
      "outputs": [
        {
          "output_type": "stream",
          "name": "stdout",
          "text": [
            "['bobo ang bts', 'sayang talaga kulang nang parts', 'basta seventeen parin']\n",
            "\n",
            " Bakit magchatgpt pa eto ang better na ratings.! \n",
            "\n",
            "\u001b[1m1/1\u001b[0m \u001b[32m━━━━━━━━━━━━━━━━━━━━\u001b[0m\u001b[37m\u001b[0m \u001b[1m0s\u001b[0m 248ms/step\n",
            "bobo ang bts\n",
            "[0.37930062]\n",
            "\n",
            "\n",
            "sayang talaga kulang nang parts\n",
            "[0.01687654]\n",
            "\n",
            "\n",
            "basta seventeen parin\n",
            "[0.31480378]\n",
            "\n",
            "\n"
          ]
        }
      ]
    }
  ],
  "metadata": {
    "accelerator": "GPU",
    "colab": {
      "provenance": [],
      "gpuType": "T4",
      "toc_visible": true
    },
    "kernelspec": {
      "display_name": "Python 3",
      "name": "python3"
    }
  },
  "nbformat": 4,
  "nbformat_minor": 0
}